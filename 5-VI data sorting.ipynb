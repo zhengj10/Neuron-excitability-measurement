{
 "cells": [
  {
   "cell_type": "markdown",
   "metadata": {},
   "source": [
    "### Get session info\n",
    "- Data is appended per cell\n"
   ]
  },
  {
   "cell_type": "code",
   "execution_count": 1,
   "metadata": {
    "collapsed": true
   },
   "outputs": [],
   "source": [
    "date = '190128'\n",
    "dishID = 'dish_2'\n",
    "cellID = 'cell_1'\n"
   ]
  },
  {
   "cell_type": "code",
   "execution_count": 10,
   "metadata": {
    "collapsed": true
   },
   "outputs": [],
   "source": [
    "# dataPath = '/Volumes/genie/Jihong_GENIE_stuff/Voltron-ST&Kv2.1/'\n",
    "dataPath = '/Users/zhengj10/Desktop/GENIE/Data/Voltron-ST&Kv2.1/190128/dish_2/cell_1'\n"
   ]
  },
  {
   "cell_type": "markdown",
   "metadata": {},
   "source": [
    "### Import modules"
   ]
  },
  {
   "cell_type": "code",
   "execution_count": 11,
   "metadata": {
    "collapsed": true
   },
   "outputs": [],
   "source": [
    "import os\n",
    "from glob import glob\n",
    "from pywavesurfer import ws\n",
    "from WC_ephys import get_data, mem_test, get_stimParams, get_rmp, get_threshold, get_AP_params, count_AP\n",
    "import numpy as np\n",
    "import scipy.signal as ss\n",
    "import matplotlib.pyplot as plt\n",
    "from scipy.optimize import curve_fit\n",
    "from termcolor import colored\n",
    "import unicodedata\n",
    "import pandas as pd\n"
   ]
  },
  {
   "cell_type": "markdown",
   "metadata": {},
   "source": [
    "### Locate data files"
   ]
  },
  {
   "cell_type": "code",
   "execution_count": 12,
   "metadata": {},
   "outputs": [
    {
     "data": {
      "text/plain": [
       "['/Users/zhengj10/Desktop/GENIE/Data/Voltron-ST&Kv2.1/190128/dish_2/cell_1/trial_0001-0010.h5',\n",
       " '/Users/zhengj10/Desktop/GENIE/Data/Voltron-ST&Kv2.1/190128/dish_2/cell_1/trial_0011-0026.h5']"
      ]
     },
     "execution_count": 12,
     "metadata": {},
     "output_type": "execute_result"
    }
   ],
   "source": [
    "# h5files = glob(os.path.join(dataPath, date, dishID, cellID, '*.h5'))\n",
    "h5files = glob(os.path.join(dataPath, '*.h5'))\n",
    "h5files = sorted(h5files)\n",
    "h5files\n"
   ]
  },
  {
   "cell_type": "code",
   "execution_count": 13,
   "metadata": {},
   "outputs": [
    {
     "name": "stdout",
     "output_type": "stream",
     "text": [
      "Mem-test\n",
      "100000.0\n"
     ]
    },
    {
     "data": {
      "image/png": "[encoded data removed]",
      "text/plain": [
       "<Figure size 432x288 with 1 Axes>"
      ]
     },
     "metadata": {},
     "output_type": "display_data"
    },
    {
     "data": {
      "image/png": "[encoded data removed]",
      "text/plain": [
       "<Figure size 432x288 with 1 Axes>"
      ]
     },
     "metadata": {},
     "output_type": "display_data"
    },
    {
     "name": "stdout",
     "output_type": "stream",
     "text": [
      "Ra: 10.391617284072016; Rm: 163.2587480561962; Cm: 136.75141007719685, tau: 1.5713155442109021\n",
      "Seal quality: 5\n",
      "\u001b[1mRa: \u001b[0m10.39 MΩ\n",
      "\u001b[1mRm: \u001b[0m163.26 MΩ\n",
      "\u001b[1mCm: \u001b[0m136.75 pF\n",
      "\u001b[1mSq: \u001b[0m5\n",
      "VI\n"
     ]
    }
   ],
   "source": [
    "# plt.figure(figsize=(10,4))\n",
    "for h5data in h5files:\n",
    "    traces, meta = get_data(h5data)\n",
    "    print meta['trialType']\n",
    "    if meta['trialType'] == 'Mem-test':\n",
    "        print meta['sampleRate']\n",
    "        meta_MT = meta\n",
    "        Ra, Rm, Cm, tau, seal_quality = mem_test(h5data, Vstep = -10, height = 100) # Height need to be adjusted\n",
    "        trace = np.mean(traces, axis=0)\n",
    "        x = (np.arange(1, trace.shape[0]+1))*1000.0/meta['sampleRate']\n",
    "        plt.plot(x, -trace, color = 'b', lw = 0.8)\n",
    "        plt.ylabel('- trace', size = 15)\n",
    "        plt.show()\n",
    "        print 'Ra: %s; Rm: %s; Cm: %s, tau: %s' %(Ra, Rm, Cm, tau)\n",
    "        print 'Seal quality: %s' %(seal_quality)\n",
    "        print colored('Ra: ', attrs=['bold']) + str(round(Ra, 2)) + ' M' + unicodedata.lookup(\"GREEK CAPITAL LETTER omega\")\n",
    "        print colored('Rm: ', attrs=['bold']) + str(round(Rm, 2)) + ' M' + unicodedata.lookup(\"GREEK CAPITAL LETTER omega\")\n",
    "        print colored('Cm: ', attrs=['bold']) + str(round(Cm, 2)) + ' pF'\n",
    "        print colored('Sq: ', attrs=['bold']) + str(seal_quality)\n"
   ]
  },
  {
   "cell_type": "code",
   "execution_count": 24,
   "metadata": {},
   "outputs": [
    {
     "name": "stdout",
     "output_type": "stream",
     "text": [
      "VI\n"
     ]
    },
    {
     "data": {
      "text/plain": [
       "<Figure size 432x720 with 0 Axes>"
      ]
     },
     "metadata": {},
     "output_type": "display_data"
    },
    {
     "data": {
      "image/png": "[encoded data removed]",
      "text/plain": [
       "<Figure size 432x720 with 1 Axes>"
      ]
     },
     "metadata": {},
     "output_type": "display_data"
    }
   ],
   "source": [
    "fig = plt.figure(figsize=(6,len(h5files)*5))\n",
    "i = 1\n",
    "\n",
    "traces = []\n",
    "data_as_dict = ws.loadDataFile(h5data)\n",
    "sortedKeys = sorted(data_as_dict.keys())\n",
    "\n",
    "sweeps = sortedKeys[1:]\n",
    "for sweep in sweeps:\n",
    "    trace = data_as_dict[sweep]['analogScans'][1]\n",
    "    traces.append(trace)\n",
    "\n",
    "trialTypeIndex = data_as_dict['header']['StimulusLibrary']['SelectedOutputableIndex'][0]\n",
    "mapElement = 'element%d' %(trialTypeIndex)\n",
    "trialType = data_as_dict['header']['StimulusLibrary']['Maps'][mapElement]['Name'][0]\n",
    "print trialType\n",
    "ax = fig.add_subplot(len(h5files), 1, i)\n",
    "i += 1\n",
    "ax.plot(traces[10])\n",
    "plt.show()\n"
   ]
  },
  {
   "cell_type": "code",
   "execution_count": null,
   "metadata": {
    "collapsed": true
   },
   "outputs": [],
   "source": []
  },
  {
   "cell_type": "markdown",
   "metadata": {},
   "source": [
    "### Ouput data"
   ]
  },
  {
   "cell_type": "code",
   "execution_count": 6,
   "metadata": {},
   "outputs": [
    {
     "data": {
      "text/html": [
       "<div>\n",
       "<style scoped>\n",
       "    .dataframe tbody tr th:only-of-type {\n",
       "        vertical-align: middle;\n",
       "    }\n",
       "\n",
       "    .dataframe tbody tr th {\n",
       "        vertical-align: top;\n",
       "    }\n",
       "\n",
       "    .dataframe thead th {\n",
       "        text-align: right;\n",
       "    }\n",
       "</style>\n",
       "<table border=\"1\" class=\"dataframe\">\n",
       "  <thead>\n",
       "    <tr style=\"text-align: right;\">\n",
       "      <th></th>\n",
       "      <th>Date</th>\n",
       "      <th>Dish</th>\n",
       "      <th>Cell_type</th>\n",
       "      <th>Plasmid</th>\n",
       "      <th>Density</th>\n",
       "      <th>Date_transfection</th>\n",
       "      <th>Cell</th>\n",
       "      <th>Transfected</th>\n",
       "      <th>Remarks</th>\n",
       "    </tr>\n",
       "  </thead>\n",
       "  <tbody>\n",
       "    <tr>\n",
       "      <th>1</th>\n",
       "      <td>190128</td>\n",
       "      <td>dish_2</td>\n",
       "      <td>Hippocampal neuron culture</td>\n",
       "      <td>421</td>\n",
       "      <td>L</td>\n",
       "      <td>190115</td>\n",
       "      <td>cell_1</td>\n",
       "      <td>False</td>\n",
       "      <td>VI experiment control: TTX 2uM</td>\n",
       "    </tr>\n",
       "    <tr>\n",
       "      <th>2</th>\n",
       "      <td>190128</td>\n",
       "      <td>dish_2</td>\n",
       "      <td>Hippocampal neuron culture</td>\n",
       "      <td>421</td>\n",
       "      <td>L</td>\n",
       "      <td>190115</td>\n",
       "      <td>cell_2</td>\n",
       "      <td>True</td>\n",
       "      <td>VI experiment control: TTX 2uM</td>\n",
       "    </tr>\n",
       "    <tr>\n",
       "      <th>3</th>\n",
       "      <td>190128</td>\n",
       "      <td>dish_2</td>\n",
       "      <td>Hippocampal neuron culture</td>\n",
       "      <td>421</td>\n",
       "      <td>L</td>\n",
       "      <td>190115</td>\n",
       "      <td>cell_3</td>\n",
       "      <td>False</td>\n",
       "      <td>VI experiment control: TTX 2uM</td>\n",
       "    </tr>\n",
       "    <tr>\n",
       "      <th>4</th>\n",
       "      <td>190128</td>\n",
       "      <td>dish_2</td>\n",
       "      <td>Hippocampal neuron culture</td>\n",
       "      <td>421</td>\n",
       "      <td>L</td>\n",
       "      <td>190115</td>\n",
       "      <td>cell_4</td>\n",
       "      <td>True</td>\n",
       "      <td>VI experiment control: TTX 2uM; Leak current ~...</td>\n",
       "    </tr>\n",
       "    <tr>\n",
       "      <th>5</th>\n",
       "      <td>190128</td>\n",
       "      <td>dish_3</td>\n",
       "      <td>Hippocampal neuron culture</td>\n",
       "      <td>421</td>\n",
       "      <td>L</td>\n",
       "      <td>190115</td>\n",
       "      <td>cell_1</td>\n",
       "      <td>False</td>\n",
       "      <td>VI experiment control: TTX 2uM + GxTx 100nM</td>\n",
       "    </tr>\n",
       "    <tr>\n",
       "      <th>6</th>\n",
       "      <td>190128</td>\n",
       "      <td>dish_3</td>\n",
       "      <td>Hippocampal neuron culture</td>\n",
       "      <td>421</td>\n",
       "      <td>L</td>\n",
       "      <td>190115</td>\n",
       "      <td>cell_2</td>\n",
       "      <td>True</td>\n",
       "      <td>VI experiment control: TTX 2uM + GxTx 100nM</td>\n",
       "    </tr>\n",
       "    <tr>\n",
       "      <th>7</th>\n",
       "      <td>190128</td>\n",
       "      <td>dish_3</td>\n",
       "      <td>Hippocampal neuron culture</td>\n",
       "      <td>421</td>\n",
       "      <td>L</td>\n",
       "      <td>190115</td>\n",
       "      <td>cell_3</td>\n",
       "      <td>True</td>\n",
       "      <td>VI experiment control: TTX 2uM + GxTx 100nM</td>\n",
       "    </tr>\n",
       "    <tr>\n",
       "      <th>8</th>\n",
       "      <td>190128</td>\n",
       "      <td>dish_3</td>\n",
       "      <td>Hippocampal neuron culture</td>\n",
       "      <td>421</td>\n",
       "      <td>L</td>\n",
       "      <td>190115</td>\n",
       "      <td>cell_4</td>\n",
       "      <td>False</td>\n",
       "      <td>VI experiment control: TTX 2uM + GxTx 100nM</td>\n",
       "    </tr>\n",
       "    <tr>\n",
       "      <th>9</th>\n",
       "      <td>190128</td>\n",
       "      <td>dish_3</td>\n",
       "      <td>Hippocampal neuron culture</td>\n",
       "      <td>421</td>\n",
       "      <td>L</td>\n",
       "      <td>190115</td>\n",
       "      <td>cell_5</td>\n",
       "      <td>True</td>\n",
       "      <td>VI experiment control: TTX 2uM + GxTx 100nM</td>\n",
       "    </tr>\n",
       "    <tr>\n",
       "      <th>10</th>\n",
       "      <td>190128</td>\n",
       "      <td>dish_3</td>\n",
       "      <td>Hippocampal neuron culture</td>\n",
       "      <td>421</td>\n",
       "      <td>L</td>\n",
       "      <td>190115</td>\n",
       "      <td>cell_6</td>\n",
       "      <td>False</td>\n",
       "      <td>VI experiment control: TTX 2uM + GxTx 100nM; 2...</td>\n",
       "    </tr>\n",
       "    <tr>\n",
       "      <th>11</th>\n",
       "      <td>190128</td>\n",
       "      <td>dish_3</td>\n",
       "      <td>Hippocampal neuron culture</td>\n",
       "      <td>421</td>\n",
       "      <td>L</td>\n",
       "      <td>190115</td>\n",
       "      <td>cell_7</td>\n",
       "      <td>False</td>\n",
       "      <td>VI experiment control: TTX 2uM + GxTx 100nM</td>\n",
       "    </tr>\n",
       "    <tr>\n",
       "      <th>12</th>\n",
       "      <td>190128</td>\n",
       "      <td>dish_3</td>\n",
       "      <td>Hippocampal neuron culture</td>\n",
       "      <td>421</td>\n",
       "      <td>L</td>\n",
       "      <td>190115</td>\n",
       "      <td>cell_8</td>\n",
       "      <td>True</td>\n",
       "      <td>VI experiment control: TTX 2uM + GxTx 100nM; -...</td>\n",
       "    </tr>\n",
       "    <tr>\n",
       "      <th>13</th>\n",
       "      <td>190129</td>\n",
       "      <td>dish_1</td>\n",
       "      <td>Hippocampal neuron culture</td>\n",
       "      <td>476</td>\n",
       "      <td>L</td>\n",
       "      <td>190115</td>\n",
       "      <td>cell_1</td>\n",
       "      <td>False</td>\n",
       "      <td>VI experiment control: TTX 2uM</td>\n",
       "    </tr>\n",
       "    <tr>\n",
       "      <th>14</th>\n",
       "      <td>190129</td>\n",
       "      <td>dish_1</td>\n",
       "      <td>Hippocampal neuron culture</td>\n",
       "      <td>476</td>\n",
       "      <td>L</td>\n",
       "      <td>190115</td>\n",
       "      <td>cell_2</td>\n",
       "      <td>True</td>\n",
       "      <td>VI experiment control: TTX 2uM; leak occurred ...</td>\n",
       "    </tr>\n",
       "    <tr>\n",
       "      <th>15</th>\n",
       "      <td>190129</td>\n",
       "      <td>dish_1</td>\n",
       "      <td>Hippocampal neuron culture</td>\n",
       "      <td>476</td>\n",
       "      <td>L</td>\n",
       "      <td>190115</td>\n",
       "      <td>cell_3</td>\n",
       "      <td>True</td>\n",
       "      <td>VI experiment control: TTX 2uM; leak occurred ...</td>\n",
       "    </tr>\n",
       "    <tr>\n",
       "      <th>16</th>\n",
       "      <td>190129</td>\n",
       "      <td>dish_1</td>\n",
       "      <td>Hippocampal neuron culture</td>\n",
       "      <td>476</td>\n",
       "      <td>L</td>\n",
       "      <td>190115</td>\n",
       "      <td>cell_4</td>\n",
       "      <td>False</td>\n",
       "      <td>VI experiment control: TTX 2uM; good recording...</td>\n",
       "    </tr>\n",
       "    <tr>\n",
       "      <th>17</th>\n",
       "      <td>190129</td>\n",
       "      <td>dish_2</td>\n",
       "      <td>Hippocampal neuron culture</td>\n",
       "      <td>476</td>\n",
       "      <td>L</td>\n",
       "      <td>190115</td>\n",
       "      <td>cell_1</td>\n",
       "      <td>True</td>\n",
       "      <td>VI experiment control: TTX 2uM + GxTx 100nM; g...</td>\n",
       "    </tr>\n",
       "    <tr>\n",
       "      <th>18</th>\n",
       "      <td>190129</td>\n",
       "      <td>dish_2</td>\n",
       "      <td>Hippocampal neuron culture</td>\n",
       "      <td>476</td>\n",
       "      <td>L</td>\n",
       "      <td>190115</td>\n",
       "      <td>cell_2</td>\n",
       "      <td>True</td>\n",
       "      <td>VI experiment control: TTX 2uM + GxTx 100nM; h...</td>\n",
       "    </tr>\n",
       "    <tr>\n",
       "      <th>19</th>\n",
       "      <td>190129</td>\n",
       "      <td>dish_2</td>\n",
       "      <td>Hippocampal neuron culture</td>\n",
       "      <td>476</td>\n",
       "      <td>L</td>\n",
       "      <td>190115</td>\n",
       "      <td>cell_3</td>\n",
       "      <td>False</td>\n",
       "      <td>VI experiment control: TTX 2uM + GxTx 100nM; g...</td>\n",
       "    </tr>\n",
       "    <tr>\n",
       "      <th>20</th>\n",
       "      <td>190129</td>\n",
       "      <td>dish_2</td>\n",
       "      <td>Hippocampal neuron culture</td>\n",
       "      <td>476</td>\n",
       "      <td>L</td>\n",
       "      <td>190115</td>\n",
       "      <td>cell_4</td>\n",
       "      <td>True</td>\n",
       "      <td>VI experiment control: TTX 2uM + GxTx 100nM; h...</td>\n",
       "    </tr>\n",
       "    <tr>\n",
       "      <th>21</th>\n",
       "      <td>190129</td>\n",
       "      <td>dish_2</td>\n",
       "      <td>Hippocampal neuron culture</td>\n",
       "      <td>476</td>\n",
       "      <td>L</td>\n",
       "      <td>190115</td>\n",
       "      <td>cell_5</td>\n",
       "      <td>True</td>\n",
       "      <td>VI experiment control: TTX 2uM + GxTx 100nM</td>\n",
       "    </tr>\n",
       "    <tr>\n",
       "      <th>22</th>\n",
       "      <td>190129</td>\n",
       "      <td>dish_3</td>\n",
       "      <td>Hippocampal neuron culture</td>\n",
       "      <td>476</td>\n",
       "      <td>L</td>\n",
       "      <td>190115</td>\n",
       "      <td>cell_1</td>\n",
       "      <td>False</td>\n",
       "      <td>VI experiment control: TTX 2uM + GxTx 100nM; l...</td>\n",
       "    </tr>\n",
       "    <tr>\n",
       "      <th>23</th>\n",
       "      <td>190129</td>\n",
       "      <td>dish_3</td>\n",
       "      <td>Hippocampal neuron culture</td>\n",
       "      <td>476</td>\n",
       "      <td>L</td>\n",
       "      <td>190115</td>\n",
       "      <td>cell_2</td>\n",
       "      <td>False</td>\n",
       "      <td>VI experiment control: TTX 2uM + GxTx 100nM</td>\n",
       "    </tr>\n",
       "    <tr>\n",
       "      <th>24</th>\n",
       "      <td>190129</td>\n",
       "      <td>dish_3</td>\n",
       "      <td>Hippocampal neuron culture</td>\n",
       "      <td>476</td>\n",
       "      <td>L</td>\n",
       "      <td>190115</td>\n",
       "      <td>cell_3</td>\n",
       "      <td>True</td>\n",
       "      <td>VI experiment control: TTX 2uM + GxTx 100nM</td>\n",
       "    </tr>\n",
       "    <tr>\n",
       "      <th>25</th>\n",
       "      <td>190129</td>\n",
       "      <td>dish_3</td>\n",
       "      <td>Hippocampal neuron culture</td>\n",
       "      <td>476</td>\n",
       "      <td>L</td>\n",
       "      <td>190115</td>\n",
       "      <td>cell_4</td>\n",
       "      <td>False</td>\n",
       "      <td>VI experiment control: TTX 2uM + GxTx 100nM; g...</td>\n",
       "    </tr>\n",
       "    <tr>\n",
       "      <th>26</th>\n",
       "      <td>190129</td>\n",
       "      <td>dish_3</td>\n",
       "      <td>Hippocampal neuron culture</td>\n",
       "      <td>476</td>\n",
       "      <td>L</td>\n",
       "      <td>190115</td>\n",
       "      <td>cell_5</td>\n",
       "      <td>True</td>\n",
       "      <td>VI experiment control: TTX 2uM + GxTx 100nM; g...</td>\n",
       "    </tr>\n",
       "    <tr>\n",
       "      <th>27</th>\n",
       "      <td>190129</td>\n",
       "      <td>dish_3</td>\n",
       "      <td>Hippocampal neuron culture</td>\n",
       "      <td>476</td>\n",
       "      <td>L</td>\n",
       "      <td>190115</td>\n",
       "      <td>cell_6</td>\n",
       "      <td>False</td>\n",
       "      <td>VI experiment control: TTX 2uM + GxTx 100nM</td>\n",
       "    </tr>\n",
       "    <tr>\n",
       "      <th>28</th>\n",
       "      <td>190129</td>\n",
       "      <td>dish_4</td>\n",
       "      <td>Hippocampal neuron culture</td>\n",
       "      <td>476</td>\n",
       "      <td>L</td>\n",
       "      <td>190115</td>\n",
       "      <td>cell_1</td>\n",
       "      <td>True</td>\n",
       "      <td>VI experiment control: TTX 2uM; good recording...</td>\n",
       "    </tr>\n",
       "    <tr>\n",
       "      <th>29</th>\n",
       "      <td>190129</td>\n",
       "      <td>dish_4</td>\n",
       "      <td>Hippocampal neuron culture</td>\n",
       "      <td>476</td>\n",
       "      <td>L</td>\n",
       "      <td>190115</td>\n",
       "      <td>cell_2</td>\n",
       "      <td>True</td>\n",
       "      <td>VI experiment control: TTX 2uM; good recording...</td>\n",
       "    </tr>\n",
       "    <tr>\n",
       "      <th>30</th>\n",
       "      <td>190129</td>\n",
       "      <td>dish_4</td>\n",
       "      <td>Hippocampal neuron culture</td>\n",
       "      <td>476</td>\n",
       "      <td>L</td>\n",
       "      <td>190115</td>\n",
       "      <td>cell_3</td>\n",
       "      <td>False</td>\n",
       "      <td>VI experiment control: TTX 2uM</td>\n",
       "    </tr>\n",
       "    <tr>\n",
       "      <th>31</th>\n",
       "      <td>190129</td>\n",
       "      <td>dish_4</td>\n",
       "      <td>Hippocampal neuron culture</td>\n",
       "      <td>476</td>\n",
       "      <td>L</td>\n",
       "      <td>190115</td>\n",
       "      <td>cell_4</td>\n",
       "      <td>True</td>\n",
       "      <td>VI experiment control: TTX 2uM; SR increased d...</td>\n",
       "    </tr>\n",
       "    <tr>\n",
       "      <th>32</th>\n",
       "      <td>190129</td>\n",
       "      <td>dish_4</td>\n",
       "      <td>Hippocampal neuron culture</td>\n",
       "      <td>476</td>\n",
       "      <td>L</td>\n",
       "      <td>190115</td>\n",
       "      <td>cell_5</td>\n",
       "      <td>False</td>\n",
       "      <td>VI experiment control: TTX 2uM; good recording...</td>\n",
       "    </tr>\n",
       "    <tr>\n",
       "      <th>33</th>\n",
       "      <td>190129</td>\n",
       "      <td>dish_4</td>\n",
       "      <td>Hippocampal neuron culture</td>\n",
       "      <td>476</td>\n",
       "      <td>L</td>\n",
       "      <td>190115</td>\n",
       "      <td>cell_6</td>\n",
       "      <td>True</td>\n",
       "      <td>VI experiment control: TTX 2uM; good recording...</td>\n",
       "    </tr>\n",
       "    <tr>\n",
       "      <th>34</th>\n",
       "      <td>190129</td>\n",
       "      <td>dish_4</td>\n",
       "      <td>Hippocampal neuron culture</td>\n",
       "      <td>476</td>\n",
       "      <td>L</td>\n",
       "      <td>190115</td>\n",
       "      <td>cell_7</td>\n",
       "      <td>True</td>\n",
       "      <td>VI experiment control: TTX 2uM</td>\n",
       "    </tr>\n",
       "    <tr>\n",
       "      <th>35</th>\n",
       "      <td>190129</td>\n",
       "      <td>dish_4</td>\n",
       "      <td>Hippocampal neuron culture</td>\n",
       "      <td>476</td>\n",
       "      <td>L</td>\n",
       "      <td>190115</td>\n",
       "      <td>cell_8</td>\n",
       "      <td>False</td>\n",
       "      <td>VI experiment control: TTX 2uM; high SR</td>\n",
       "    </tr>\n",
       "    <tr>\n",
       "      <th>36</th>\n",
       "      <td>190129</td>\n",
       "      <td>dish_4</td>\n",
       "      <td>Hippocampal neuron culture</td>\n",
       "      <td>476</td>\n",
       "      <td>L</td>\n",
       "      <td>190115</td>\n",
       "      <td>cell_9</td>\n",
       "      <td>False</td>\n",
       "      <td>VI experiment control: TTX 2uM; good recording...</td>\n",
       "    </tr>\n",
       "    <tr>\n",
       "      <th>37</th>\n",
       "      <td>190219</td>\n",
       "      <td>dish_1</td>\n",
       "      <td>Hippocampal neuron culture</td>\n",
       "      <td>421</td>\n",
       "      <td>L</td>\n",
       "      <td>190205</td>\n",
       "      <td>cell_1</td>\n",
       "      <td>True</td>\n",
       "      <td>VI experiment control: TTX 2uM</td>\n",
       "    </tr>\n",
       "    <tr>\n",
       "      <th>38</th>\n",
       "      <td>190219</td>\n",
       "      <td>dish_1</td>\n",
       "      <td>Hippocampal neuron culture</td>\n",
       "      <td>421</td>\n",
       "      <td>L</td>\n",
       "      <td>190205</td>\n",
       "      <td>cell_2</td>\n",
       "      <td>False</td>\n",
       "      <td>VI experiment control: TTX 2uM; leak present</td>\n",
       "    </tr>\n",
       "    <tr>\n",
       "      <th>39</th>\n",
       "      <td>190219</td>\n",
       "      <td>dish_1</td>\n",
       "      <td>Hippocampal neuron culture</td>\n",
       "      <td>421</td>\n",
       "      <td>L</td>\n",
       "      <td>190205</td>\n",
       "      <td>cell_3</td>\n",
       "      <td>True</td>\n",
       "      <td>VI experiment control: TTX 2uM; leak present</td>\n",
       "    </tr>\n",
       "    <tr>\n",
       "      <th>40</th>\n",
       "      <td>190219</td>\n",
       "      <td>dish_1</td>\n",
       "      <td>Hippocampal neuron culture</td>\n",
       "      <td>421</td>\n",
       "      <td>L</td>\n",
       "      <td>190205</td>\n",
       "      <td>cell_4</td>\n",
       "      <td>True</td>\n",
       "      <td>VI experiment control: TTX 2uM; leak present</td>\n",
       "    </tr>\n",
       "    <tr>\n",
       "      <th>41</th>\n",
       "      <td>190219</td>\n",
       "      <td>dish_2</td>\n",
       "      <td>Hippocampal neuron culture</td>\n",
       "      <td>421</td>\n",
       "      <td>L</td>\n",
       "      <td>190205</td>\n",
       "      <td>cell_1</td>\n",
       "      <td>False</td>\n",
       "      <td>VI experiment control: TTX 2uM; leak present</td>\n",
       "    </tr>\n",
       "    <tr>\n",
       "      <th>42</th>\n",
       "      <td>190219</td>\n",
       "      <td>dish_2</td>\n",
       "      <td>Hippocampal neuron culture</td>\n",
       "      <td>421</td>\n",
       "      <td>L</td>\n",
       "      <td>190205</td>\n",
       "      <td>cell_2</td>\n",
       "      <td>False</td>\n",
       "      <td>VI experiment control: TTX 2uM; leak present</td>\n",
       "    </tr>\n",
       "    <tr>\n",
       "      <th>43</th>\n",
       "      <td>190219</td>\n",
       "      <td>dish_2</td>\n",
       "      <td>Hippocampal neuron culture</td>\n",
       "      <td>421</td>\n",
       "      <td>L</td>\n",
       "      <td>190205</td>\n",
       "      <td>cell_3</td>\n",
       "      <td>False</td>\n",
       "      <td>VI experiment control: TTX 2uM; leak &lt; 20 pA; ...</td>\n",
       "    </tr>\n",
       "    <tr>\n",
       "      <th>44</th>\n",
       "      <td>190219</td>\n",
       "      <td>dish_2</td>\n",
       "      <td>Hippocampal neuron culture</td>\n",
       "      <td>421</td>\n",
       "      <td>L</td>\n",
       "      <td>190205</td>\n",
       "      <td>cell_4</td>\n",
       "      <td>True</td>\n",
       "      <td>VI experiment control: TTX 2uM; leak &lt; 20 pA</td>\n",
       "    </tr>\n",
       "    <tr>\n",
       "      <th>45</th>\n",
       "      <td>190219</td>\n",
       "      <td>dish_2</td>\n",
       "      <td>Hippocampal neuron culture</td>\n",
       "      <td>421</td>\n",
       "      <td>L</td>\n",
       "      <td>190205</td>\n",
       "      <td>cell_5</td>\n",
       "      <td>False</td>\n",
       "      <td>VI experiment control: TTX 2uM; leak &lt; 20 pA</td>\n",
       "    </tr>\n",
       "  </tbody>\n",
       "</table>\n",
       "</div>"
      ],
      "text/plain": [
       "      Date    Dish                   Cell_type  Plasmid Density  \\\n",
       "1   190128  dish_2  Hippocampal neuron culture      421       L   \n",
       "2   190128  dish_2  Hippocampal neuron culture      421       L   \n",
       "3   190128  dish_2  Hippocampal neuron culture      421       L   \n",
       "4   190128  dish_2  Hippocampal neuron culture      421       L   \n",
       "5   190128  dish_3  Hippocampal neuron culture      421       L   \n",
       "6   190128  dish_3  Hippocampal neuron culture      421       L   \n",
       "7   190128  dish_3  Hippocampal neuron culture      421       L   \n",
       "8   190128  dish_3  Hippocampal neuron culture      421       L   \n",
       "9   190128  dish_3  Hippocampal neuron culture      421       L   \n",
       "10  190128  dish_3  Hippocampal neuron culture      421       L   \n",
       "11  190128  dish_3  Hippocampal neuron culture      421       L   \n",
       "12  190128  dish_3  Hippocampal neuron culture      421       L   \n",
       "13  190129  dish_1  Hippocampal neuron culture      476       L   \n",
       "14  190129  dish_1  Hippocampal neuron culture      476       L   \n",
       "15  190129  dish_1  Hippocampal neuron culture      476       L   \n",
       "16  190129  dish_1  Hippocampal neuron culture      476       L   \n",
       "17  190129  dish_2  Hippocampal neuron culture      476       L   \n",
       "18  190129  dish_2  Hippocampal neuron culture      476       L   \n",
       "19  190129  dish_2  Hippocampal neuron culture      476       L   \n",
       "20  190129  dish_2  Hippocampal neuron culture      476       L   \n",
       "21  190129  dish_2  Hippocampal neuron culture      476       L   \n",
       "22  190129  dish_3  Hippocampal neuron culture      476       L   \n",
       "23  190129  dish_3  Hippocampal neuron culture      476       L   \n",
       "24  190129  dish_3  Hippocampal neuron culture      476       L   \n",
       "25  190129  dish_3  Hippocampal neuron culture      476       L   \n",
       "26  190129  dish_3  Hippocampal neuron culture      476       L   \n",
       "27  190129  dish_3  Hippocampal neuron culture      476       L   \n",
       "28  190129  dish_4  Hippocampal neuron culture      476       L   \n",
       "29  190129  dish_4  Hippocampal neuron culture      476       L   \n",
       "30  190129  dish_4  Hippocampal neuron culture      476       L   \n",
       "31  190129  dish_4  Hippocampal neuron culture      476       L   \n",
       "32  190129  dish_4  Hippocampal neuron culture      476       L   \n",
       "33  190129  dish_4  Hippocampal neuron culture      476       L   \n",
       "34  190129  dish_4  Hippocampal neuron culture      476       L   \n",
       "35  190129  dish_4  Hippocampal neuron culture      476       L   \n",
       "36  190129  dish_4  Hippocampal neuron culture      476       L   \n",
       "37  190219  dish_1  Hippocampal neuron culture      421       L   \n",
       "38  190219  dish_1  Hippocampal neuron culture      421       L   \n",
       "39  190219  dish_1  Hippocampal neuron culture      421       L   \n",
       "40  190219  dish_1  Hippocampal neuron culture      421       L   \n",
       "41  190219  dish_2  Hippocampal neuron culture      421       L   \n",
       "42  190219  dish_2  Hippocampal neuron culture      421       L   \n",
       "43  190219  dish_2  Hippocampal neuron culture      421       L   \n",
       "44  190219  dish_2  Hippocampal neuron culture      421       L   \n",
       "45  190219  dish_2  Hippocampal neuron culture      421       L   \n",
       "\n",
       "    Date_transfection    Cell  Transfected  \\\n",
       "1              190115  cell_1        False   \n",
       "2              190115  cell_2         True   \n",
       "3              190115  cell_3        False   \n",
       "4              190115  cell_4         True   \n",
       "5              190115  cell_1        False   \n",
       "6              190115  cell_2         True   \n",
       "7              190115  cell_3         True   \n",
       "8              190115  cell_4        False   \n",
       "9              190115  cell_5         True   \n",
       "10             190115  cell_6        False   \n",
       "11             190115  cell_7        False   \n",
       "12             190115  cell_8         True   \n",
       "13             190115  cell_1        False   \n",
       "14             190115  cell_2         True   \n",
       "15             190115  cell_3         True   \n",
       "16             190115  cell_4        False   \n",
       "17             190115  cell_1         True   \n",
       "18             190115  cell_2         True   \n",
       "19             190115  cell_3        False   \n",
       "20             190115  cell_4         True   \n",
       "21             190115  cell_5         True   \n",
       "22             190115  cell_1        False   \n",
       "23             190115  cell_2        False   \n",
       "24             190115  cell_3         True   \n",
       "25             190115  cell_4        False   \n",
       "26             190115  cell_5         True   \n",
       "27             190115  cell_6        False   \n",
       "28             190115  cell_1         True   \n",
       "29             190115  cell_2         True   \n",
       "30             190115  cell_3        False   \n",
       "31             190115  cell_4         True   \n",
       "32             190115  cell_5        False   \n",
       "33             190115  cell_6         True   \n",
       "34             190115  cell_7         True   \n",
       "35             190115  cell_8        False   \n",
       "36             190115  cell_9        False   \n",
       "37             190205  cell_1         True   \n",
       "38             190205  cell_2        False   \n",
       "39             190205  cell_3         True   \n",
       "40             190205  cell_4         True   \n",
       "41             190205  cell_1        False   \n",
       "42             190205  cell_2        False   \n",
       "43             190205  cell_3        False   \n",
       "44             190205  cell_4         True   \n",
       "45             190205  cell_5        False   \n",
       "\n",
       "                                              Remarks  \n",
       "1                      VI experiment control: TTX 2uM  \n",
       "2                      VI experiment control: TTX 2uM  \n",
       "3                      VI experiment control: TTX 2uM  \n",
       "4   VI experiment control: TTX 2uM; Leak current ~...  \n",
       "5         VI experiment control: TTX 2uM + GxTx 100nM  \n",
       "6         VI experiment control: TTX 2uM + GxTx 100nM  \n",
       "7         VI experiment control: TTX 2uM + GxTx 100nM  \n",
       "8         VI experiment control: TTX 2uM + GxTx 100nM  \n",
       "9         VI experiment control: TTX 2uM + GxTx 100nM  \n",
       "10  VI experiment control: TTX 2uM + GxTx 100nM; 2...  \n",
       "11        VI experiment control: TTX 2uM + GxTx 100nM  \n",
       "12  VI experiment control: TTX 2uM + GxTx 100nM; -...  \n",
       "13                     VI experiment control: TTX 2uM  \n",
       "14  VI experiment control: TTX 2uM; leak occurred ...  \n",
       "15  VI experiment control: TTX 2uM; leak occurred ...  \n",
       "16  VI experiment control: TTX 2uM; good recording...  \n",
       "17  VI experiment control: TTX 2uM + GxTx 100nM; g...  \n",
       "18  VI experiment control: TTX 2uM + GxTx 100nM; h...  \n",
       "19  VI experiment control: TTX 2uM + GxTx 100nM; g...  \n",
       "20  VI experiment control: TTX 2uM + GxTx 100nM; h...  \n",
       "21        VI experiment control: TTX 2uM + GxTx 100nM  \n",
       "22  VI experiment control: TTX 2uM + GxTx 100nM; l...  \n",
       "23        VI experiment control: TTX 2uM + GxTx 100nM  \n",
       "24        VI experiment control: TTX 2uM + GxTx 100nM  \n",
       "25  VI experiment control: TTX 2uM + GxTx 100nM; g...  \n",
       "26  VI experiment control: TTX 2uM + GxTx 100nM; g...  \n",
       "27        VI experiment control: TTX 2uM + GxTx 100nM  \n",
       "28  VI experiment control: TTX 2uM; good recording...  \n",
       "29  VI experiment control: TTX 2uM; good recording...  \n",
       "30                     VI experiment control: TTX 2uM  \n",
       "31  VI experiment control: TTX 2uM; SR increased d...  \n",
       "32  VI experiment control: TTX 2uM; good recording...  \n",
       "33  VI experiment control: TTX 2uM; good recording...  \n",
       "34                     VI experiment control: TTX 2uM  \n",
       "35            VI experiment control: TTX 2uM; high SR  \n",
       "36  VI experiment control: TTX 2uM; good recording...  \n",
       "37                     VI experiment control: TTX 2uM  \n",
       "38       VI experiment control: TTX 2uM; leak present  \n",
       "39       VI experiment control: TTX 2uM; leak present  \n",
       "40       VI experiment control: TTX 2uM; leak present  \n",
       "41       VI experiment control: TTX 2uM; leak present  \n",
       "42       VI experiment control: TTX 2uM; leak present  \n",
       "43  VI experiment control: TTX 2uM; leak < 20 pA; ...  \n",
       "44       VI experiment control: TTX 2uM; leak < 20 pA  \n",
       "45       VI experiment control: TTX 2uM; leak < 20 pA  "
      ]
     },
     "execution_count": 6,
     "metadata": {},
     "output_type": "execute_result"
    }
   ],
   "source": [
    "logFile = os.path.join(dataPath, 'log_VI.xlsx')\n",
    "pd.set_option('display.max_columns', 50)\n",
    "df_log = pd.read_excel(logFile, index_col = 0)\n",
    "df_log\n"
   ]
  },
  {
   "cell_type": "code",
   "execution_count": 7,
   "metadata": {},
   "outputs": [
    {
     "name": "stdout",
     "output_type": "stream",
     "text": [
      "(u'Hippocampal neuron culture', 421, u'L', 190115, False, u'VI experiment control: TTX 2uM')\n"
     ]
    }
   ],
   "source": [
    "cellType = df_log.loc[(df_log['Date'] == int(date)) & (df_log['Dish'] == dishID) & (df_log['Cell'] == cellID), 'Cell_type'].values[0]\n",
    "plasmid = df_log.loc[(df_log['Date'] == int(date)) & (df_log['Dish'] == dishID) & (df_log['Cell'] == cellID), 'Plasmid'].values[0]\n",
    "plasmid = int(plasmid)\n",
    "density = df_log.loc[(df_log['Date'] == int(date)) & (df_log['Dish'] == dishID) & (df_log['Cell'] == cellID), 'Density'].values[0]\n",
    "dateTransfection = df_log.loc[(df_log['Date'] == int(date)) & (df_log['Dish'] == dishID) & (df_log['Cell'] == cellID), 'Date_transfection'].values[0]\n",
    "dateTransfection = int(dateTransfection)\n",
    "transfected = df_log.loc[(df_log['Date'] == int(date)) & (df_log['Dish'] == dishID) & (df_log['Cell'] == cellID), 'Transfected'].values[0]\n",
    "transfected = bool(transfected)\n",
    "remarks = df_log.loc[(df_log['Date'] == int(date)) & (df_log['Dish'] == dishID) & (df_log['Cell'] == cellID), 'Remarks'].values[0]\n",
    "print (cellType, plasmid, density, dateTransfection, transfected, remarks)\n"
   ]
  },
  {
   "cell_type": "code",
   "execution_count": 8,
   "metadata": {
    "collapsed": true
   },
   "outputs": [],
   "source": [
    "sessionInfo = {\n",
    "                u'Date': date,\n",
    "                u'Dish': dishID,\n",
    "                u'Cell_type': cellType,\n",
    "                u'Plasmid': plasmid,\n",
    "                u'Density': density,\n",
    "                u'Date_transfection': dateTransfection,\n",
    "                u'Cell': cellID,\n",
    "                u'Transfected': transfected,\n",
    "                u'Ra': Ra,\n",
    "                u'Rm': Rm,\n",
    "                u'Cm': Cm,\n",
    "                u'tau': tau,\n",
    "                u'Seal_quality': seal_quality,\n",
    "                u'Remarks': remarks\n",
    "            }\n"
   ]
  },
  {
   "cell_type": "code",
   "execution_count": 9,
   "metadata": {},
   "outputs": [
    {
     "data": {
      "image/png": "[encoded data removed]",
      "text/plain": [
       "<Figure size 432x288 with 1 Axes>"
      ]
     },
     "metadata": {},
     "output_type": "display_data"
    }
   ],
   "source": [
    "for trace in traces:\n",
    "    plt.plot(trace)\n",
    "plt.show()\n"
   ]
  },
  {
   "cell_type": "code",
   "execution_count": 379,
   "metadata": {},
   "outputs": [
    {
     "name": "stdout",
     "output_type": "stream",
     "text": [
      "1\n",
      "2\n",
      "3\n",
      "4\n",
      "5\n",
      "6\n",
      "7\n",
      "8\n",
      "9\n",
      "10\n",
      "11\n",
      "12\n",
      "13\n",
      "14\n",
      "15\n",
      "16\n"
     ]
    }
   ],
   "source": [
    "Ik = []\n",
    "i = 1\n",
    "for trace in traces:\n",
    "    print i\n",
    "    i+=1\n",
    "    v = np.mean(trace[6000:6100])/Cm\n",
    "    Ik.append(v)"
   ]
  },
  {
   "cell_type": "code",
   "execution_count": 380,
   "metadata": {},
   "outputs": [
    {
     "data": {
      "text/plain": [
       "[1.2133557684835028,\n",
       " 1.420604902755616,\n",
       " 2.360005583598044,\n",
       " 3.8137154187519178,\n",
       " 5.594871123839056,\n",
       " 7.692879471588556,\n",
       " 10.085000447705145,\n",
       " 12.782627546433448,\n",
       " 16.72883320809485,\n",
       " 20.135306261141164,\n",
       " 23.686834922286295,\n",
       " 27.422967183519898,\n",
       " 31.768370977261306,\n",
       " 35.63152858365608,\n",
       " 40.35810038978239,\n",
       " 46.26724836903967]"
      ]
     },
     "execution_count": 380,
     "metadata": {},
     "output_type": "execute_result"
    }
   ],
   "source": [
    "Ik"
   ]
  },
  {
   "cell_type": "code",
   "execution_count": 291,
   "metadata": {
    "collapsed": true
   },
   "outputs": [],
   "source": [
    "x = np.linspace(-70,80,16)\n",
    "Ik = np.array(Ik)"
   ]
  },
  {
   "cell_type": "code",
   "execution_count": 292,
   "metadata": {},
   "outputs": [
    {
     "data": {
      "image/png": "[encoded data removed]",
      "text/plain": [
       "<Figure size 432x288 with 1 Axes>"
      ]
     },
     "metadata": {},
     "output_type": "display_data"
    }
   ],
   "source": [
    "plt.plot(x, Ik, )\n",
    "plt.show()"
   ]
  },
  {
   "cell_type": "code",
   "execution_count": 293,
   "metadata": {
    "collapsed": true,
    "scrolled": false
   },
   "outputs": [],
   "source": [
    "# df = df.sort_values(by=['Date', 'Dish', 'Cell'])\n",
    "# df.to_excel(sumFile)\n",
    "# df"
   ]
  },
  {
   "cell_type": "code",
   "execution_count": 294,
   "metadata": {
    "collapsed": true,
    "scrolled": false
   },
   "outputs": [],
   "source": [
    "# df_new = pd.DataFrame(sessionInfo, columns = list(df), index = ['i',]) # columns specification keeps the order of columns; index specification makes sure dict keys are the columns \n",
    "# df = df.append(df_new, ignore_index = True)\n",
    "# df.index = np.arange(1, len(df)+1)\n",
    "# df.to_excel(sumFile)\n",
    "# pd.set_option('display.max_columns', 50)\n",
    "# pd.set_option('display.max_colwidth', 8)\n",
    "# df\n",
    "# # df = df.drop([1])\n",
    "# # df.index = np.arange(1, len(df)+1)\n",
    "# # df\n"
   ]
  },
  {
   "cell_type": "code",
   "execution_count": 295,
   "metadata": {
    "collapsed": true
   },
   "outputs": [],
   "source": [
    "# df.to_excel(sumFile)\n",
    "# df"
   ]
  },
  {
   "cell_type": "code",
   "execution_count": 296,
   "metadata": {
    "collapsed": true
   },
   "outputs": [],
   "source": [
    "# idx = len(df)\n",
    "# df = df.drop(idx)\n",
    "# df.to_excel(dataPath + '/summary.xlsx')\n",
    "# df\n"
   ]
  },
  {
   "cell_type": "code",
   "execution_count": 297,
   "metadata": {
    "collapsed": true
   },
   "outputs": [],
   "source": [
    "# sessionInfo['Ith']"
   ]
  },
  {
   "cell_type": "markdown",
   "metadata": {},
   "source": [
    "### Single AP protocol\n",
    "- Discarded due to lack of AHP evoked by 1 ms pulses"
   ]
  },
  {
   "cell_type": "code",
   "execution_count": 298,
   "metadata": {
    "collapsed": true
   },
   "outputs": [],
   "source": [
    "# plt.figure(figsize=(15,4))\n",
    "# for h5data in h5files:\n",
    "#     traces, meta = get_data(h5data)\n",
    "#     if meta['trialType'] == 'IC-singleAP':\n",
    "#         trace = traces[0]\n",
    "# #         AP_info, plotParams = get_AP_shape(h5data)\n",
    "#         ax1 = plt.subplot(1,3,1)\n",
    "#         ax1.plot(trace, lw = 0.5, color = 'b')\n",
    "#         ax2 = plt.subplot(1,3,2)\n",
    "#         ax2.plot(trace[int(8.5*meta['sampleRate']):int(8.5*meta['sampleRate'])+100], lw = 0.5, color = 'g')\n",
    "#         ax3 = plt.subplot(1,3,3)\n",
    "#         ax3.plot(trace[int(9.5*meta['sampleRate']):int(9.5*meta['sampleRate'])+1000], lw = 0.5, color = 'g')\n",
    "# #         preSpike = int(0.01*meta['sampleRate'])\n",
    "# #         postSpike = int(0.02*meta['sampleRate'])\n",
    "# #         ax2.plot(np.arange(time - preSpike, time + postSpike), trace[time - preSpike : time + postSpike], color = 'b', lw = 0.8)\n",
    "#         plt.show()\n"
   ]
  },
  {
   "cell_type": "code",
   "execution_count": 299,
   "metadata": {
    "collapsed": true
   },
   "outputs": [],
   "source": [
    "# plt.figure(figsize=(12,3))\n",
    "# ax = plt.subplot(1,1,1)\n",
    "# # x = np.arange(1,len(traces[0])+1) / float(meta['sampleRate'])\n",
    "# ax.plot(traces[0], color = 'b', lw = 0.5)\n",
    "# ax.spines['right'].set_visible(False)\n",
    "# ax.spines['top'].set_visible(False)\n",
    "# plt.show()\n"
   ]
  },
  {
   "cell_type": "markdown",
   "metadata": {},
   "source": [
    "### Height plotting with plt.plot\n",
    "- Substitute for plt.hlines() command"
   ]
  },
  {
   "cell_type": "code",
   "execution_count": 300,
   "metadata": {
    "collapsed": true
   },
   "outputs": [],
   "source": [
    "# x = trace\n",
    "# peaks, _ = ss.find_peaks(x, height=0)\n",
    "# plt.figure(figsize=[12,4])\n",
    "# plt.plot(x)\n",
    "# plt.plot(peaks, x[peaks], \"x\")\n",
    "# plt.plot(np.zeros_like(x), \"--\", color=\"gray\")\n",
    "# plt.show()\n"
   ]
  },
  {
   "cell_type": "markdown",
   "metadata": {},
   "source": [
    "### Extract values from MultiClamp-700B cfg file"
   ]
  },
  {
   "cell_type": "code",
   "execution_count": 301,
   "metadata": {
    "collapsed": true,
    "scrolled": false
   },
   "outputs": [],
   "source": [
    "# lines = []\n",
    "# with open('/Users/zhengj10/Desktop/cell1.txt', 'rt') as cfgFile:\n",
    "#     for line in cfgFile:\n",
    "#         lines.append(line)\n"
   ]
  },
  {
   "cell_type": "code",
   "execution_count": 302,
   "metadata": {
    "collapsed": true
   },
   "outputs": [],
   "source": [
    "# import re\n",
    "# a = [float(s) for s in re.findall(r'-?\\d+\\.?\\d*', lines[214])]\n",
    "# a"
   ]
  },
  {
   "cell_type": "code",
   "execution_count": 303,
   "metadata": {
    "collapsed": true
   },
   "outputs": [],
   "source": [
    "# cm = a[0] * 10**(12+a[1])"
   ]
  },
  {
   "cell_type": "markdown",
   "metadata": {},
   "source": [
    "### Walk through data folders"
   ]
  },
  {
   "cell_type": "code",
   "execution_count": 304,
   "metadata": {
    "collapsed": true
   },
   "outputs": [],
   "source": [
    "# thedir = os.path.join(dataPath, date, dishID, cellID)\n",
    "# print thedir\n",
    "# cells = [ name for name in os.listdir(thedir) if os.path.isdir(os.path.join(thedir, name)) ]"
   ]
  },
  {
   "cell_type": "code",
   "execution_count": null,
   "metadata": {
    "collapsed": true
   },
   "outputs": [],
   "source": []
  },
  {
   "cell_type": "code",
   "execution_count": null,
   "metadata": {
    "collapsed": true
   },
   "outputs": [],
   "source": []
  },
  {
   "cell_type": "code",
   "execution_count": null,
   "metadata": {
    "collapsed": true
   },
   "outputs": [],
   "source": []
  }
 ],
 "metadata": {
  "kernelspec": {
   "display_name": "Python 3",
   "language": "python",
   "name": "python3"
  },
  "language_info": {
   "codemirror_mode": {
    "name": "ipython",
    "version": 3
   },
   "file_extension": ".py",
   "mimetype": "text/x-python",
   "name": "python",
   "nbconvert_exporter": "python",
   "pygments_lexer": "ipython3",
   "version": "3.7.3"
  }
 },
 "nbformat": 4,
 "nbformat_minor": 2
}

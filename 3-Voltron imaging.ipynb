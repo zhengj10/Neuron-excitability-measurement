{
 "cells": [
  {
   "cell_type": "markdown",
   "metadata": {},
   "source": [
    "### Set directory and session info"
   ]
  },
  {
   "cell_type": "code",
   "execution_count": 12,
   "metadata": {
    "collapsed": true
   },
   "outputs": [],
   "source": [
    "# imgPath = '/Volumes/genie/Jihong_GENIE_stuff/Voltron-ST&Kv2.1/181221/dish_2/cell_3/imaging/'\n",
    "imgPath = '/Users/zhengj10/Desktop/GEVI_example'\n"
   ]
  },
  {
   "cell_type": "markdown",
   "metadata": {},
   "source": [
    "### Import modules"
   ]
  },
  {
   "cell_type": "code",
   "execution_count": 13,
   "metadata": {},
   "outputs": [
    {
     "name": "stdout",
     "output_type": "stream",
     "text": [
      "Populating the interactive namespace from numpy and matplotlib\n"
     ]
    },
    {
     "name": "stderr",
     "output_type": "stream",
     "text": [
      "/Users/zhengj10/anaconda2/lib/python2.7/site-packages/IPython/core/magics/pylab.py:161: UserWarning: pylab import has clobbered these variables: ['product', 'trace']\n",
      "`%matplotlib` prevents importing * from pylab and numpy\n",
      "  \"\\n`%matplotlib` prevents importing * from pylab and numpy\"\n"
     ]
    }
   ],
   "source": [
    "%pylab inline \n",
    "%matplotlib inline\n",
    "import numpy as np\n",
    "import re\n",
    "import thunder\n",
    "import sys\n",
    "import os\n",
    "from sima.misc.imagej import read_imagej_roi_zip\n",
    "from shapely.geometry import MultiPolygon, Point\n",
    "from shapely.geometry import Polygon as shapelyPolygon\n",
    "from itertools import product as product\n",
    "import tifffile as tff\n",
    "from extraction.model import ExtractionModel\n",
    "from glob import glob\n",
    "import matplotlib.pyplot as plt\n"
   ]
  },
  {
   "cell_type": "markdown",
   "metadata": {},
   "source": [
    "### Thunder extration"
   ]
  },
  {
   "cell_type": "code",
   "execution_count": 14,
   "metadata": {},
   "outputs": [],
   "source": [
    "# reference = tff.TiffFile(imgPath + '/376.4.tif')\n",
    "# reference = reference.asarray()\n"
   ]
  },
  {
   "cell_type": "code",
   "execution_count": 15,
   "metadata": {},
   "outputs": [],
   "source": [
    "# print reference.shape\n",
    "# refMean = np.mean(reference, axis=0)\n",
    "# print refMean.shape\n"
   ]
  },
  {
   "cell_type": "code",
   "execution_count": 16,
   "metadata": {},
   "outputs": [],
   "source": [
    "# plt.imshow(refMean)\n",
    "# plt.show()\n"
   ]
  },
  {
   "cell_type": "code",
   "execution_count": 17,
   "metadata": {},
   "outputs": [
    {
     "data": {
      "text/plain": [
       "['/Users/zhengj10/Desktop/GEVI_example/376.10369.tif']"
      ]
     },
     "execution_count": 17,
     "metadata": {},
     "output_type": "execute_result"
    }
   ],
   "source": [
    "imgFiles = glob(imgPath + '/*.tif')\n",
    "imgFiles"
   ]
  },
  {
   "cell_type": "code",
   "execution_count": null,
   "metadata": {
    "collapsed": true
   },
   "outputs": [],
   "source": []
  },
  {
   "cell_type": "code",
   "execution_count": 18,
   "metadata": {
    "scrolled": false
   },
   "outputs": [
    {
     "name": "stdout",
     "output_type": "stream",
     "text": [
      "Number of ROIs: 2\n",
      "The number of trials is: 1\n",
      "/Users/zhengj10/Desktop/GEVI_example/376.10369.tif\n",
      "(24000, 32, 32)\n",
      "(2, 24000)\n",
      "ROI extraction completed\n"
     ]
    }
   ],
   "source": [
    "sumPath = imgPath + '/summary'\n",
    "roiLoadName = sumPath + '/' + os.path.splitext(os.path.basename(imgFiles[0]))[0] + '_RoiSet.zip'\n",
    "roiList = read_imagej_roi_zip(roiLoadName)\n",
    "numOfRois = shape(roiList)[0]\n",
    "print ('Number of ROIs: ' + str(numOfRois))\n",
    "\n",
    "numOfTrials = len(glob(imgPath + '/*.tif'))\n",
    "print ('The number of trials is: ' + str(numOfTrials))\n",
    "\n",
    "traces = {}\n",
    "roiAreaList = {}\n",
    "roiCoordinates = []\n",
    "for roiNum in range(numOfRois):\n",
    "    polygon1 = shapelyPolygon(roiList[roiNum]['polygons'])\n",
    "    x_min, y_min, x_max, y_max = polygon1.bounds\n",
    "    roiCoordinates.append(polygon1.centroid)\n",
    "    points = [Point(x, y) for x, y in\n",
    "                 product(np.arange(int(x_min), np.ceil(x_max)),\n",
    "                 np.arange(int(y_min), np.ceil(y_max)))]\n",
    "\n",
    "    pointsInPoly = filter(polygon1.contains, points)\n",
    "    roiAllPix = []\n",
    "    for point in pointsInPoly:\n",
    "        x = int(point.x)\n",
    "        y = int(point.y)\n",
    "        roiSinglePix = [y, x] # need to switch x, y shown in Fiji\n",
    "        roiAllPix.append(roiSinglePix)\n",
    "    roiAreaList[roiNum] = roiAllPix\n",
    "\n",
    "regions = []\n",
    "\n",
    "for roiNum in range(numOfRois):\n",
    "    regions.append(roiAreaList[roiNum])\n",
    "\n",
    "# fileName = mouseID + '_' + fovID + '_' + studyID\n",
    "\n",
    "meanImgFiles = glob(imgPath + '/*.tif')\n",
    "meanImgFiles = sorted(meanImgFiles)\n",
    "for imgFile in (meanImgFiles):\n",
    "    print imgFile\n",
    "\n",
    "for trialNum in range (len(meanImgFiles)):\n",
    "    data = tff.TiffFile(meanImgFiles[trialNum])\n",
    "    data = data.asarray()  # need to convert to array or there is an error on transform step\n",
    "    print (data.shape)\n",
    "    em = ExtractionModel(regions)\n",
    "    trace = em.transform(data)\n",
    "    trace = trace.toarray()\n",
    "    print (trace.shape)\n",
    "    traces[trialNum] = trace\n",
    "print ('ROI extraction completed')\n"
   ]
  },
  {
   "cell_type": "code",
   "execution_count": 19,
   "metadata": {
    "collapsed": true
   },
   "outputs": [],
   "source": [
    "# roiCenter = []\n",
    "# for point in (roiCoordinates):\n",
    "#     a = int(point.x)\n",
    "#     b = int(point.y)\n",
    "#     roiCenter.append([a,b])\n",
    "# roiCenter\n"
   ]
  },
  {
   "cell_type": "code",
   "execution_count": 20,
   "metadata": {
    "collapsed": true
   },
   "outputs": [],
   "source": [
    "def computeDff(singleTrace, shutterCloseFrames = 0, stimStart = 2000, frameInterval = 1, fb = 0):\n",
    "    stopFrame = int(stimStart//frameInterval) - shutterCloseFrames\n",
    "    startFrame = stopFrame - 500\n",
    "    f0 = np.mean(singleTrace[startFrame : stopFrame])\n",
    "    df = singleTrace - f0\n",
    "    dff = df/(f0-fb)\n",
    "    return f0, dff"
   ]
  },
  {
   "cell_type": "markdown",
   "metadata": {},
   "source": [
    "### Reshape data format"
   ]
  },
  {
   "cell_type": "code",
   "execution_count": 21,
   "metadata": {},
   "outputs": [
    {
     "name": "stdout",
     "output_type": "stream",
     "text": [
      "Raw traces stored in list\n",
      "Dff traces stored in list\n",
      "(1, 1, 24000)\n",
      "(1, 1, 24000)\n"
     ]
    }
   ],
   "source": [
    "raw_AllTrials_ROIs = []\n",
    "f0_AllTrials_ROIs = []\n",
    "dff_AllTrials_ROIs = []\n",
    "for trialNum in range(numOfTrials):\n",
    "    raw_SingleTrial_ROIs = []\n",
    "    f0_SingleTrial_ROIs = []\n",
    "    dff_SingleTrial_ROIs = []\n",
    "    for roiNum in range(numOfRois):\n",
    "        raw = traces[trialNum]\n",
    "        if roiNum == 0:                              # New added code to substract fb, which is always the 1st roi\n",
    "            trace_fb = raw[roiNum]\n",
    "            fb = np.mean(raw[roiNum][1500:2000])        # Pick up 20 frames before stim start\n",
    "            continue\n",
    "        f0, dff = computeDff(raw[roiNum], fb = fb)   # fb = fb kwargs added\n",
    "        raw_SingleTrial_ROIs.append(raw[roiNum,:])\n",
    "        f0_SingleTrial_ROIs.append(f0)\n",
    "        dff_SingleTrial_ROIs.append(dff)\n",
    "    raw_AllTrials_ROIs.append(raw_SingleTrial_ROIs)\n",
    "    f0_AllTrials_ROIs.append(f0_SingleTrial_ROIs)\n",
    "    dff_AllTrials_ROIs.append(dff_SingleTrial_ROIs)\n",
    "print ('Raw traces stored in list')\n",
    "print ('Dff traces stored in list')\n",
    "raw_AllTrials_ROIs_asArray = np.array(raw_AllTrials_ROIs)\n",
    "dff_AllTrials_ROIs_asArray = np.array(dff_AllTrials_ROIs)\n",
    "print (raw_AllTrials_ROIs_asArray.shape)\n",
    "print (dff_AllTrials_ROIs_asArray.shape)\n"
   ]
  },
  {
   "cell_type": "code",
   "execution_count": 22,
   "metadata": {},
   "outputs": [
    {
     "data": {
      "image/png": "[encoded data removed]",
      "text/plain": [
       "<Figure size 864x360 with 1 Axes>"
      ]
     },
     "metadata": {},
     "output_type": "display_data"
    }
   ],
   "source": [
    "fig = plt.figure(figsize=(12,5))\n",
    "plt.plot(dff_AllTrials_ROIs_asArray[0,0,:])\n",
    "plt.xlim(1000,23500)\n",
    "plt.ylim(-1,1.5)\n",
    "plt.show()\n",
    "fig.savefig(imgPath + '/figure/' + os.path.splitext(os.path.basename(imgFiles[0]))[0] + '.png', dpi = 1200)\n"
   ]
  },
  {
   "cell_type": "code",
   "execution_count": null,
   "metadata": {
    "collapsed": true
   },
   "outputs": [],
   "source": []
  },
  {
   "cell_type": "code",
   "execution_count": null,
   "metadata": {
    "collapsed": true
   },
   "outputs": [],
   "source": [
    "import scipy.signal as ss"
   ]
  },
  {
   "cell_type": "code",
   "execution_count": null,
   "metadata": {
    "collapsed": true
   },
   "outputs": [],
   "source": [
    "a = ss.medfilt(dff_AllTrials_ROIs_asArray[0,0,:], kernel_size=5)\n",
    "a *= 100"
   ]
  },
  {
   "cell_type": "code",
   "execution_count": null,
   "metadata": {},
   "outputs": [],
   "source": [
    "fig = plt.figure(figsize=(12,6))\n",
    "plt.plot(a, 'b')\n",
    "plt.xlim(2600,5300)\n",
    "# plt.ylim(0.05,-0.16)\n",
    "plt.ylim(5,-15.5)\n",
    "plt.show()\n",
    "# fig.savefig('/Users/zhengj10/Desktop/GENIE/Meeting/GEVI/181218/Voltron/imaging.png', dpi = 1200)\n"
   ]
  },
  {
   "cell_type": "markdown",
   "metadata": {},
   "source": [
    "### Save traces and ROI coordinates to mat file"
   ]
  },
  {
   "cell_type": "code",
   "execution_count": null,
   "metadata": {
    "collapsed": true
   },
   "outputs": [],
   "source": [
    "import scipy.io as sio\n",
    "\n",
    "sio.savemat(sumPath + '/' + '_raw.mat', dict(raw=raw_AllTrials_ROIs))\n",
    "sio.savemat(sumPath + '/' + '_f0.mat', dict(f0=f0_AllTrials_ROIs))\n",
    "sio.savemat(sumPath + '/' + '_dff.mat', dict(dff=dff_AllTrials_ROIs))\n",
    "# scipy.io.savemat(matlabPath + '/' + '_roiCenter.mat', dict(roiCenter=roiCenter))\n"
   ]
  },
  {
   "cell_type": "markdown",
   "metadata": {},
   "source": [
    "### Single ROI for all trials & all ROIs for single trial"
   ]
  },
  {
   "cell_type": "code",
   "execution_count": null,
   "metadata": {
    "collapsed": true,
    "scrolled": false
   },
   "outputs": [],
   "source": []
  },
  {
   "cell_type": "markdown",
   "metadata": {},
   "source": [
    "### Single ROI for all trials & all ROIs for single trial (raw data)"
   ]
  },
  {
   "cell_type": "code",
   "execution_count": null,
   "metadata": {
    "collapsed": true
   },
   "outputs": [],
   "source": [
    "# Single ROI for all trials\n",
    "trialMap = {1: '1 Hz',\n",
    "            2: '5 Hz',\n",
    "            3: '10 Hz',\n",
    "            4: '20 Hz',\n",
    "            5: '40 Hz',\n",
    "            6: '80 Hz',\n",
    "            7: '160 Hz' \n",
    "              }\n",
    "\n",
    "roiNum = 0\n",
    "numOfFrames = dff_AllTrials_ROIs_asArray.shape[2]\n",
    "plt.figure(figsize=(6,6))\n",
    "\n",
    "ax1 = plt.subplot(121)\n",
    "for trialNum in range (numOfTrials):\n",
    "    ax1.plot(raw_AllTrials_ROIs_asArray[trialNum, roiNum, 50:], lw=0.7, label=trialMap[trialNum+1])\n",
    "leg1 = ax1.legend()\n",
    "leg1.get_frame().set_linewidth(0.0)\n",
    "ax1.spines['right'].set_visible(False)\n",
    "ax1.spines['top'].set_visible(False)\n",
    "ax1.yaxis.set_ticks_position('left')\n",
    "ax1.xaxis.set_ticks_position('bottom')\n",
    "ax1.set_title(sensor)\n",
    "ax1.set_xlabel('Frame #', size=12)\n",
    "ax1.set_ylabel('F', size=12)\n",
    "\n",
    "\n",
    "# All ROIs for single trial\n",
    "trialNum = 4\n",
    "\n",
    "ax2 = plt.subplot(122)\n",
    "for roiNum in range (numOfRois):\n",
    "    ax2.plot(raw_AllTrials_ROIs_asArray[trialNum, roiNum, 50:], lw=0.5, label='Roi_' + str(roiNum+1))\n",
    "leg2 = ax2.legend()\n",
    "leg2.get_frame().set_linewidth(0.0)\n",
    "ax2.spines['right'].set_visible(False)\n",
    "ax2.spines['top'].set_visible(False)\n",
    "ax2.yaxis.set_ticks_position('left')\n",
    "ax2.xaxis.set_ticks_position('bottom')\n",
    "ax2.set_title(sensor)\n",
    "ax2.set_xlabel('Frame #', size=12)\n",
    "ax2.set_ylabel('F', size=12)\n",
    "plt.show()\n"
   ]
  },
  {
   "cell_type": "code",
   "execution_count": null,
   "metadata": {
    "collapsed": true
   },
   "outputs": [],
   "source": []
  },
  {
   "cell_type": "code",
   "execution_count": null,
   "metadata": {
    "collapsed": true
   },
   "outputs": [],
   "source": []
  },
  {
   "cell_type": "code",
   "execution_count": null,
   "metadata": {
    "collapsed": true
   },
   "outputs": [],
   "source": []
  },
  {
   "cell_type": "code",
   "execution_count": null,
   "metadata": {
    "collapsed": true
   },
   "outputs": [],
   "source": []
  }
 ],
 "metadata": {
  "kernelspec": {
   "display_name": "Python 3",
   "language": "python",
   "name": "python3"
  },
  "language_info": {
   "codemirror_mode": {
    "name": "ipython",
    "version": 3
   },
   "file_extension": ".py",
   "mimetype": "text/x-python",
   "name": "python",
   "nbconvert_exporter": "python",
   "pygments_lexer": "ipython3",
   "version": "3.7.6"
  }
 },
 "nbformat": 4,
 "nbformat_minor": 1
}

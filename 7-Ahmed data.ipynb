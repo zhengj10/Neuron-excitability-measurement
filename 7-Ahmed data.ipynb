{
 "cells": [
  {
   "cell_type": "markdown",
   "metadata": {},
   "source": [
    "### Get session info\n",
    "- Data is appended per cell\n"
   ]
  },
  {
   "cell_type": "code",
   "execution_count": 1,
   "metadata": {},
   "outputs": [],
   "source": [
    "# dataPath = '/Volumes/genie/Jihong_GENIE_stuff/Voltron-ST&Kv2.1/'\n",
    "date = '190128'\n",
    "dataPath = '/Users/zhengj10/Desktop/Ahmed'\n"
   ]
  },
  {
   "cell_type": "markdown",
   "metadata": {},
   "source": [
    "### Import modules"
   ]
  },
  {
   "cell_type": "code",
   "execution_count": 2,
   "metadata": {},
   "outputs": [],
   "source": [
    "import os\n",
    "from glob import glob\n",
    "from pywavesurfer import ws\n",
    "from WC_ephys_Voltron import get_data, mem_test, get_rmp, get_threshold, get_AP_params, low_pass\n",
    "import numpy as np\n",
    "import scipy.signal as ss\n",
    "import matplotlib.pyplot as plt\n",
    "from scipy.optimize import curve_fit\n",
    "from termcolor import colored\n",
    "import unicodedata\n",
    "import pandas as pd\n"
   ]
  },
  {
   "cell_type": "code",
   "execution_count": 3,
   "metadata": {},
   "outputs": [
    {
     "name": "stdout",
     "output_type": "stream",
     "text": [
      "True\n"
     ]
    }
   ],
   "source": [
    "cellPath = os.path.join(dataPath, date)\n",
    "print(os.path.exists(cellPath))\n"
   ]
  },
  {
   "cell_type": "markdown",
   "metadata": {},
   "source": [
    "### Locate data files"
   ]
  },
  {
   "cell_type": "code",
   "execution_count": 4,
   "metadata": {},
   "outputs": [
    {
     "data": {
      "text/plain": [
       "['cell_1', 'cell_2', 'cell_3', 'cell_4', 'cell_5']"
      ]
     },
     "execution_count": 4,
     "metadata": {},
     "output_type": "execute_result"
    }
   ],
   "source": [
    "cells = [d for d in os.listdir(cellPath) if os.path.isdir(os.path.join(cellPath, d))]\n",
    "cells = sorted(cells)\n",
    "cells\n",
    "# h5files = glob(os.path.join(dataPath, '*.h5'))\n",
    "# h5files = sorted(h5files)\n",
    "# h5files\n"
   ]
  },
  {
   "cell_type": "markdown",
   "metadata": {},
   "source": [
    "### Load h5 data"
   ]
  },
  {
   "cell_type": "code",
   "execution_count": 5,
   "metadata": {},
   "outputs": [
    {
     "data": {
      "text/plain": [
       "['/Users/zhengj10/Desktop/Ahmed/190128/cell_1/trial_0001-0010.h5',\n",
       " '/Users/zhengj10/Desktop/Ahmed/190128/cell_1/trial_0011.h5',\n",
       " '/Users/zhengj10/Desktop/Ahmed/190128/cell_1/trial_0012.h5',\n",
       " '/Users/zhengj10/Desktop/Ahmed/190128/cell_1/trial_0013.h5',\n",
       " '/Users/zhengj10/Desktop/Ahmed/190128/cell_1/trial_0014.h5']"
      ]
     },
     "execution_count": 5,
     "metadata": {},
     "output_type": "execute_result"
    }
   ],
   "source": [
    "cell = 'cell_1'\n",
    "h5files = glob(os.path.join(dataPath, date, cell, '*.h5'))\n",
    "h5files = sorted(h5files)\n",
    "h5files\n"
   ]
  },
  {
   "cell_type": "code",
   "execution_count": 6,
   "metadata": {},
   "outputs": [
    {
     "ename": "KeyError",
     "evalue": "'Delay'",
     "output_type": "error",
     "traceback": [
      "\u001b[0;31m---------------------------------------------------------------------------\u001b[0m",
      "\u001b[0;31mKeyError\u001b[0m                                  Traceback (most recent call last)",
      "\u001b[0;32m<ipython-input-6-a0f739829aa2>\u001b[0m in \u001b[0;36m<module>\u001b[0;34m\u001b[0m\n\u001b[1;32m      1\u001b[0m \u001b[0mplt\u001b[0m\u001b[0;34m.\u001b[0m\u001b[0mfigure\u001b[0m\u001b[0;34m(\u001b[0m\u001b[0mfigsize\u001b[0m\u001b[0;34m=\u001b[0m\u001b[0;34m(\u001b[0m\u001b[0;36m10\u001b[0m\u001b[0;34m,\u001b[0m\u001b[0;36m4\u001b[0m\u001b[0;34m)\u001b[0m\u001b[0;34m)\u001b[0m\u001b[0;34m\u001b[0m\u001b[0;34m\u001b[0m\u001b[0m\n\u001b[0;32m----> 2\u001b[0;31m \u001b[0mtraces\u001b[0m\u001b[0;34m,\u001b[0m \u001b[0mmeta\u001b[0m \u001b[0;34m=\u001b[0m \u001b[0mget_data\u001b[0m\u001b[0;34m(\u001b[0m\u001b[0mh5files\u001b[0m\u001b[0;34m[\u001b[0m\u001b[0;36m0\u001b[0m\u001b[0;34m]\u001b[0m\u001b[0;34m)\u001b[0m\u001b[0;34m\u001b[0m\u001b[0;34m\u001b[0m\u001b[0m\n\u001b[0m\u001b[1;32m      3\u001b[0m \u001b[0mtrace\u001b[0m \u001b[0;34m=\u001b[0m \u001b[0mtraces\u001b[0m\u001b[0;34m[\u001b[0m\u001b[0;36m4\u001b[0m\u001b[0;34m]\u001b[0m\u001b[0;34m\u001b[0m\u001b[0;34m\u001b[0m\u001b[0m\n\u001b[1;32m      4\u001b[0m \u001b[0mtrace_lpfilt\u001b[0m \u001b[0;34m=\u001b[0m \u001b[0mlow_pass\u001b[0m\u001b[0;34m(\u001b[0m\u001b[0mtrace\u001b[0m\u001b[0;34m)\u001b[0m\u001b[0;34m\u001b[0m\u001b[0;34m\u001b[0m\u001b[0m\n\u001b[1;32m      5\u001b[0m \u001b[0mtrace_med\u001b[0m \u001b[0;34m=\u001b[0m \u001b[0mss\u001b[0m\u001b[0;34m.\u001b[0m\u001b[0mmedfilt\u001b[0m\u001b[0;34m(\u001b[0m\u001b[0mtrace\u001b[0m\u001b[0;34m,\u001b[0m \u001b[0mkernel_size\u001b[0m \u001b[0;34m=\u001b[0m \u001b[0;36m5\u001b[0m\u001b[0;34m)\u001b[0m\u001b[0;34m\u001b[0m\u001b[0;34m\u001b[0m\u001b[0m\n",
      "\u001b[0;32m~/Python/GENIE/Neuron excitability & Kv2.1 excitability/WC_ephys_Voltron.py\u001b[0m in \u001b[0;36mget_data\u001b[0;34m(h5data)\u001b[0m\n\u001b[1;32m     30\u001b[0m     \u001b[0mstimulus\u001b[0m \u001b[0;34m=\u001b[0m \u001b[0mdata_as_dict\u001b[0m\u001b[0;34m[\u001b[0m\u001b[0;34m'header'\u001b[0m\u001b[0;34m]\u001b[0m\u001b[0;34m[\u001b[0m\u001b[0;34m'StimulusLibrary'\u001b[0m\u001b[0;34m]\u001b[0m\u001b[0;34m[\u001b[0m\u001b[0;34m'Stimuli'\u001b[0m\u001b[0;34m]\u001b[0m\u001b[0;34m[\u001b[0m\u001b[0mstimElement\u001b[0m\u001b[0;34m]\u001b[0m\u001b[0;34m[\u001b[0m\u001b[0;34m'Name'\u001b[0m\u001b[0;34m]\u001b[0m\u001b[0;34m[\u001b[0m\u001b[0;36m0\u001b[0m\u001b[0;34m]\u001b[0m\u001b[0;34m\u001b[0m\u001b[0;34m\u001b[0m\u001b[0m\n\u001b[1;32m     31\u001b[0m     \u001b[0mmeta\u001b[0m\u001b[0;34m[\u001b[0m\u001b[0;34m'stimulus'\u001b[0m\u001b[0;34m]\u001b[0m \u001b[0;34m=\u001b[0m \u001b[0mstimulus\u001b[0m\u001b[0;34m\u001b[0m\u001b[0;34m\u001b[0m\u001b[0m\n\u001b[0;32m---> 32\u001b[0;31m     \u001b[0mdelay\u001b[0m \u001b[0;34m=\u001b[0m \u001b[0mdata_as_dict\u001b[0m\u001b[0;34m[\u001b[0m\u001b[0;34m'header'\u001b[0m\u001b[0;34m]\u001b[0m\u001b[0;34m[\u001b[0m\u001b[0;34m'StimulusLibrary'\u001b[0m\u001b[0;34m]\u001b[0m\u001b[0;34m[\u001b[0m\u001b[0;34m'Stimuli'\u001b[0m\u001b[0;34m]\u001b[0m\u001b[0;34m[\u001b[0m\u001b[0mstimElement\u001b[0m\u001b[0;34m]\u001b[0m\u001b[0;34m[\u001b[0m\u001b[0;34m'Delay'\u001b[0m\u001b[0;34m]\u001b[0m\u001b[0;34m[\u001b[0m\u001b[0;36m0\u001b[0m\u001b[0;34m]\u001b[0m\u001b[0;34m\u001b[0m\u001b[0;34m\u001b[0m\u001b[0m\n\u001b[0m\u001b[1;32m     33\u001b[0m     \u001b[0mmeta\u001b[0m\u001b[0;34m[\u001b[0m\u001b[0;34m'delay'\u001b[0m\u001b[0;34m]\u001b[0m \u001b[0;34m=\u001b[0m \u001b[0mfloat\u001b[0m\u001b[0;34m(\u001b[0m\u001b[0mdelay\u001b[0m\u001b[0;34m)\u001b[0m\u001b[0;34m\u001b[0m\u001b[0;34m\u001b[0m\u001b[0m\n\u001b[1;32m     34\u001b[0m     \u001b[0mamplitude\u001b[0m \u001b[0;34m=\u001b[0m \u001b[0mdata_as_dict\u001b[0m\u001b[0;34m[\u001b[0m\u001b[0;34m'header'\u001b[0m\u001b[0;34m]\u001b[0m\u001b[0;34m[\u001b[0m\u001b[0;34m'StimulusLibrary'\u001b[0m\u001b[0;34m]\u001b[0m\u001b[0;34m[\u001b[0m\u001b[0;34m'Stimuli'\u001b[0m\u001b[0;34m]\u001b[0m\u001b[0;34m[\u001b[0m\u001b[0mstimElement\u001b[0m\u001b[0;34m]\u001b[0m\u001b[0;34m[\u001b[0m\u001b[0;34m'Amplitude'\u001b[0m\u001b[0;34m]\u001b[0m\u001b[0;34m[\u001b[0m\u001b[0;36m0\u001b[0m\u001b[0;34m]\u001b[0m\u001b[0;34m\u001b[0m\u001b[0;34m\u001b[0m\u001b[0m\n",
      "\u001b[0;31mKeyError\u001b[0m: 'Delay'"
     ]
    },
    {
     "data": {
      "text/plain": [
       "<Figure size 720x288 with 0 Axes>"
      ]
     },
     "metadata": {},
     "output_type": "display_data"
    }
   ],
   "source": [
    "plt.figure(figsize=(10,4))\n",
    "traces, meta = get_data(h5files[0])\n",
    "trace = traces[4]\n",
    "trace_lpfilt = low_pass(trace)\n",
    "trace_med = ss.medfilt(trace, kernel_size = 5)\n",
    "ax1 = plt.subplot(1,3,1)\n",
    "ax1.plot(trace)\n",
    "ax2 = plt.subplot(1,3,2)\n",
    "ax2.plot(trace_lpfilt)\n",
    "ax3 = plt.subplot(1,3,3)\n",
    "ax3.plot(trace_med)\n",
    "plt.show()\n"
   ]
  },
  {
   "cell_type": "code",
   "execution_count": 22,
   "metadata": {},
   "outputs": [],
   "source": [
    "data_as_dict = ws.loadDataFile(filename=h5files[0])"
   ]
  },
  {
   "cell_type": "code",
   "execution_count": 23,
   "metadata": {},
   "outputs": [],
   "source": [
    "sortedKeys = sorted(data_as_dict.keys())\n",
    "sweeps = sortedKeys[1:]\n",
    "traces = []\n",
    "for sweep in sweeps:\n",
    "    trace = data_as_dict[sweep]['analogScans'][0]\n",
    "    traces.append(trace)"
   ]
  },
  {
   "cell_type": "code",
   "execution_count": 25,
   "metadata": {},
   "outputs": [
    {
     "data": {
      "text/plain": [
       "10"
      ]
     },
     "execution_count": 25,
     "metadata": {},
     "output_type": "execute_result"
    }
   ],
   "source": [
    "len(traces)"
   ]
  },
  {
   "cell_type": "code",
   "execution_count": 28,
   "metadata": {},
   "outputs": [
    {
     "data": {
      "image/png": "[encoded data removed]",
      "text/plain": [
       "<Figure size 432x288 with 1 Axes>"
      ]
     },
     "metadata": {
      "needs_background": "light"
     },
     "output_type": "display_data"
    }
   ],
   "source": [
    "plt.plot(traces[1])\n",
    "plt.show()"
   ]
  },
  {
   "cell_type": "code",
   "execution_count": 31,
   "metadata": {},
   "outputs": [
    {
     "data": {
      "text/plain": [
       "{'element1': {'AdditionalParameterDisplayNames': array([b'Delay', b'Duration', b'Amplitude', b'DC Offset'], dtype='|S9'),\n",
       "  'AdditionalParameterDisplayUnitses': array([b's', b's', b'', b''], dtype='|S1'),\n",
       "  'AdditionalParameterNames': array([b'Delay', b'Duration', b'Amplitude', b'DCOffset'], dtype='|S9'),\n",
       "  'Delegate': {'Amplitude': array([b'5'], dtype='|S1'),\n",
       "   'DCOffset': array([b'0'], dtype='|S1'),\n",
       "   'Delay': array([b'0'], dtype='|S1'),\n",
       "   'Duration': array([b'3'], dtype='|S1'),\n",
       "   'EndTime': array([[3.]]),\n",
       "   'TypeString': array([b'SquarePulse'], dtype='|S11')},\n",
       "  'EndTime': array([[3.]]),\n",
       "  'Name': array([b'EXT_LEVEL_500mV3s'], dtype='|S17'),\n",
       "  'TypeString': array([b'SquarePulse'], dtype='|S11')},\n",
       " 'element2': {'AdditionalParameterDisplayNames': array([b'Delay', b'Duration', b'Amplitude', b'DC Offset', b'Period',\n",
       "         b'Pulse Duration'], dtype='|S14'),\n",
       "  'AdditionalParameterDisplayUnitses': array([b's', b's', b'', b'', b's', b's'], dtype='|S1'),\n",
       "  'AdditionalParameterNames': array([b'Delay', b'Duration', b'Amplitude', b'DCOffset', b'Period',\n",
       "         b'PulseDuration'], dtype='|S13'),\n",
       "  'Delegate': {'Amplitude': array([b'3.3'], dtype='|S3'),\n",
       "   'DCOffset': array([b'0'], dtype='|S1'),\n",
       "   'Delay': array([b'0'], dtype='|S1'),\n",
       "   'Duration': array([b'3'], dtype='|S1'),\n",
       "   'EndTime': array([[3.]]),\n",
       "   'Period': array([b'0.001'], dtype='|S5'),\n",
       "   'PulseDuration': array([b'0.0002'], dtype='|S6'),\n",
       "   'TypeString': array([b'SquarePulseTrain'], dtype='|S16')},\n",
       "  'EndTime': array([[3.]]),\n",
       "  'Name': array([b'ANDOR_ExtTrig1kHz3s'], dtype='|S19'),\n",
       "  'TypeString': array([b'SquarePulseTrain'], dtype='|S16')},\n",
       " 'element3': {'AdditionalParameterDisplayNames': array([b'Delay', b'1st Amplitude', b'Pulse Duration', b'Delay Between',\n",
       "         b'Amplitude Change', b'Pulse Count'], dtype='|S16'),\n",
       "  'AdditionalParameterDisplayUnitses': array([b's', b'', b's', b's', b'', b''], dtype='|S1'),\n",
       "  'AdditionalParameterNames': array([b'Delay', b'FirstPulseAmplitude', b'PulseDuration',\n",
       "         b'DelayBetweenPulses', b'AmplitudeChangePerPulse', b'PulseCount'],\n",
       "        dtype='|S23'),\n",
       "  'Delegate': {'AmplitudeChangePerPulse': array([b'257.44'], dtype='|S6'),\n",
       "   'Delay': array([b'0.5'], dtype='|S3'),\n",
       "   'DelayBetweenPulses': array([b'0.999'], dtype='|S5'),\n",
       "   'EndTime': array([[9.501]]),\n",
       "   'FirstPulseAmplitude': array([b'772.32'], dtype='|S6'),\n",
       "   'PulseCount': array([b'10'], dtype='|S2'),\n",
       "   'PulseDuration': array([b'0.001'], dtype='|S5'),\n",
       "   'TypeString': array([b'SquarePulseLadder'], dtype='|S17')},\n",
       "  'EndTime': array([[9.501]]),\n",
       "  'Name': array([b'Current steps_1ms'], dtype='|S17'),\n",
       "  'TypeString': array([b'SquarePulseLadder'], dtype='|S17')},\n",
       " 'element4': {'AdditionalParameterDisplayNames': array([b'Delay', b'Duration', b'Amplitude', b'DC Offset'], dtype='|S9'),\n",
       "  'AdditionalParameterDisplayUnitses': array([b's', b's', b'', b''], dtype='|S1'),\n",
       "  'AdditionalParameterNames': array([b'Delay', b'Duration', b'Amplitude', b'DCOffset'], dtype='|S9'),\n",
       "  'Delegate': {'Amplitude': array([b'200'], dtype='|S3'),\n",
       "   'DCOffset': array([b'0'], dtype='|S1'),\n",
       "   'Delay': array([b'0.5'], dtype='|S3'),\n",
       "   'Duration': array([b'1'], dtype='|S1'),\n",
       "   'EndTime': array([[1.5]]),\n",
       "   'TypeString': array([b'SquarePulse'], dtype='|S11')},\n",
       "  'EndTime': array([[1.5]]),\n",
       "  'Name': array([b'1s current pulse'], dtype='|S16'),\n",
       "  'TypeString': array([b'SquarePulse'], dtype='|S11')},\n",
       " 'element5': {'AdditionalParameterDisplayNames': array([b'Delay', b'Duration', b'Amplitude', b'DC Offset'], dtype='|S9'),\n",
       "  'AdditionalParameterDisplayUnitses': array([b's', b's', b'', b''], dtype='|S1'),\n",
       "  'AdditionalParameterNames': array([b'Delay', b'Duration', b'Amplitude', b'DCOffset'], dtype='|S9'),\n",
       "  'Delegate': {'Amplitude': array([b'150'], dtype='|S3'),\n",
       "   'DCOffset': array([b'0'], dtype='|S1'),\n",
       "   'Delay': array([b'0.5'], dtype='|S3'),\n",
       "   'Duration': array([b'1'], dtype='|S1'),\n",
       "   'EndTime': array([[1.5]]),\n",
       "   'TypeString': array([b'Ramp'], dtype='|S4')},\n",
       "  'EndTime': array([[1.5]]),\n",
       "  'Name': array([b'Current ramp'], dtype='|S12'),\n",
       "  'TypeString': array([b'Ramp'], dtype='|S4')},\n",
       " 'element6': {'AdditionalParameterDisplayNames': array([b'Delay', b'1st Amplitude', b'1st Duration', b'Delay Between',\n",
       "         b'2nd Amplitude', b'2nd Duration'], dtype='|S13'),\n",
       "  'AdditionalParameterDisplayUnitses': array([b's', b'', b's', b's', b'', b's'], dtype='|S1'),\n",
       "  'AdditionalParameterNames': array([b'Delay', b'FirstPulseAmplitude', b'FirstPulseDuration',\n",
       "         b'DelayBetweenPulses', b'SecondPulseAmplitude',\n",
       "         b'SecondPulseDuration'], dtype='|S20'),\n",
       "  'Delegate': {'Delay': array([b'1'], dtype='|S1'),\n",
       "   'DelayBetweenPulses': array([b'0'], dtype='|S1'),\n",
       "   'EndTime': array([[2.5]]),\n",
       "   'FirstPulseAmplitude': array([b'20*i'], dtype='|S4'),\n",
       "   'FirstPulseDuration': array([b'0.5'], dtype='|S3'),\n",
       "   'SecondPulseAmplitude': array([b'55'], dtype='|S2'),\n",
       "   'SecondPulseDuration': array([b'1'], dtype='|S1'),\n",
       "   'TypeString': array([b'TwoSquarePulses'], dtype='|S15')},\n",
       "  'EndTime': array([[2.5]]),\n",
       "  'Name': array([b'Voltage steps_activation'], dtype='|S24'),\n",
       "  'TypeString': array([b'TwoSquarePulses'], dtype='|S15')},\n",
       " 'element7': {'AdditionalParameterDisplayNames': array([b'Delay', b'Duration', b'Amplitude', b'DC Offset'], dtype='|S9'),\n",
       "  'AdditionalParameterDisplayUnitses': array([b's', b's', b'', b''], dtype='|S1'),\n",
       "  'AdditionalParameterNames': array([b'Delay', b'Duration', b'Amplitude', b'DCOffset'], dtype='|S9'),\n",
       "  'Delegate': {'Amplitude': array([b'-10'], dtype='|S3'),\n",
       "   'DCOffset': array([b'0'], dtype='|S1'),\n",
       "   'Delay': array([b'0.01'], dtype='|S4'),\n",
       "   'Duration': array([b'0.1'], dtype='|S3'),\n",
       "   'EndTime': array([[0.11]]),\n",
       "   'TypeString': array([b'SquarePulse'], dtype='|S11')},\n",
       "  'EndTime': array([[0.11]]),\n",
       "  'Name': array([b'Membrane test'], dtype='|S13'),\n",
       "  'TypeString': array([b'SquarePulse'], dtype='|S11')},\n",
       " 'element8': {'AdditionalParameterDisplayNames': array([b'Delay', b'1st Amplitude', b'Pulse Duration', b'Delay Between',\n",
       "         b'Amplitude Change', b'Pulse Count'], dtype='|S16'),\n",
       "  'AdditionalParameterDisplayUnitses': array([b's', b'', b's', b's', b'', b''], dtype='|S1'),\n",
       "  'AdditionalParameterNames': array([b'Delay', b'FirstPulseAmplitude', b'PulseDuration',\n",
       "         b'DelayBetweenPulses', b'AmplitudeChangePerPulse', b'PulseCount'],\n",
       "        dtype='|S23'),\n",
       "  'Delegate': {'AmplitudeChangePerPulse': array([b'38.62'], dtype='|S5'),\n",
       "   'Delay': array([b'0.5'], dtype='|S3'),\n",
       "   'DelayBetweenPulses': array([b'0.9'], dtype='|S3'),\n",
       "   'EndTime': array([[11.6]]),\n",
       "   'FirstPulseAmplitude': array([b'-77.23'], dtype='|S6'),\n",
       "   'PulseCount': array([b'12'], dtype='|S2'),\n",
       "   'PulseDuration': array([b'0.1'], dtype='|S3'),\n",
       "   'TypeString': array([b'SquarePulseLadder'], dtype='|S17')},\n",
       "  'EndTime': array([[11.6]]),\n",
       "  'Name': array([b'Current steps_100ms'], dtype='|S19'),\n",
       "  'TypeString': array([b'SquarePulseLadder'], dtype='|S17')},\n",
       " 'element9': {'AdditionalParameterDisplayNames': array([b'Delay', b'1st Amplitude', b'1st Duration', b'Delay Between',\n",
       "         b'2nd Amplitude', b'2nd Duration'], dtype='|S13'),\n",
       "  'AdditionalParameterDisplayUnitses': array([b's', b'', b's', b's', b'', b's'], dtype='|S1'),\n",
       "  'AdditionalParameterNames': array([b'Delay', b'FirstPulseAmplitude', b'FirstPulseDuration',\n",
       "         b'DelayBetweenPulses', b'SecondPulseAmplitude',\n",
       "         b'SecondPulseDuration'], dtype='|S20'),\n",
       "  'Delegate': {'Delay': array([b'0.5'], dtype='|S3'),\n",
       "   'DelayBetweenPulses': array([b'0.03'], dtype='|S4'),\n",
       "   'EndTime': array([[0.81]]),\n",
       "   'FirstPulseAmplitude': array([b'70'], dtype='|S2'),\n",
       "   'FirstPulseDuration': array([b'0.03'], dtype='|S4'),\n",
       "   'SecondPulseAmplitude': array([b'10*i'], dtype='|S4'),\n",
       "   'SecondPulseDuration': array([b'0.25'], dtype='|S4'),\n",
       "   'TypeString': array([b'TwoSquarePulses'], dtype='|S15')},\n",
       "  'EndTime': array([[0.81]]),\n",
       "  'Name': array([b'VI-relationship'], dtype='|S15'),\n",
       "  'TypeString': array([b'TwoSquarePulses'], dtype='|S15')}}"
      ]
     },
     "execution_count": 31,
     "metadata": {},
     "output_type": "execute_result"
    }
   ],
   "source": [
    "data_as_dict['header']['StimulusLibrary']['Stimuli']"
   ]
  },
  {
   "cell_type": "code",
   "execution_count": null,
   "metadata": {},
   "outputs": [],
   "source": [
    "# from scipy import signal\n",
    "\n",
    "# def low_pass(trace, cut = 0.125):\n",
    "#     b, a = signal.butter(8, 0.06)\n",
    "#     y = signal.filtfilt(b, a, trace, padlen=150)\n",
    "#     return y\n",
    "\n",
    "# y = low_pass(trace)\n",
    "# print y.shape\n",
    "# plt.plot(y)\n",
    "# plt.show()\n"
   ]
  },
  {
   "cell_type": "code",
   "execution_count": null,
   "metadata": {},
   "outputs": [],
   "source": [
    "# def mov_mean(trace, stride = 100):\n",
    "#     trace_filt = np.zeros(trace.shape[0])\n",
    "#     for point in range(trace.shape[0]):\n",
    "#         trace_filt[point] = np.mean(trace[point:point+stride])\n",
    "#     return trace_filt\n"
   ]
  },
  {
   "cell_type": "code",
   "execution_count": null,
   "metadata": {},
   "outputs": [],
   "source": [
    "for h5data in h5files:\n",
    "    traces, meta = get_data(h5data)\n",
    "    print meta['trialType']\n",
    "    if meta['trialType'] == 'VC_10mV_100ms_0.3s':\n",
    "        Ra, Rm, Cm, tau, seal_quality = mem_test(h5data, Vstep = 10.0, height = 200)\n",
    "        traces, meta = get_data(h5data)\n",
    "        trace = np.mean(traces, axis=0)\n",
    "        x = (np.arange(1, trace.shape[0]+1))*1000.0/meta['sampleRate']\n",
    "        plt.plot(x, trace, color = 'b', lw = 0.8)\n",
    "        plt.ylabel('pA', size = 15)\n",
    "        plt.show()\n",
    "        print 'Ra: %s; Rm: %s; Cm: %s, tau: %s' %(Ra, Rm, Cm, tau)\n",
    "        print 'Seal quality: %s' %(seal_quality)\n",
    "        print colored('Ra: ', attrs=['bold']) + str(round(Ra, 2)) + ' M' + unicodedata.lookup(\"GREEK CAPITAL LETTER omega\")\n",
    "        print colored('Rm: ', attrs=['bold']) + str(round(Rm, 2)) + ' M' + unicodedata.lookup(\"GREEK CAPITAL LETTER omega\")\n",
    "        print colored('Cm: ', attrs=['bold']) + str(round(Cm, 2)) + ' pF'\n",
    "        print colored('Sq: ', attrs=['bold']) + str(seal_quality)\n",
    "        break\n"
   ]
  },
  {
   "cell_type": "markdown",
   "metadata": {},
   "source": [
    "### Parameters visualization"
   ]
  },
  {
   "cell_type": "code",
   "execution_count": null,
   "metadata": {},
   "outputs": [],
   "source": [
    "rate = 20\n",
    "tail = 0.02\n"
   ]
  },
  {
   "cell_type": "code",
   "execution_count": null,
   "metadata": {
    "scrolled": false
   },
   "outputs": [],
   "source": [
    "fig = plt.figure(figsize=(8,20))\n",
    "for h5data in h5files:\n",
    "    traces, meta = get_data(h5data)\n",
    "    if meta['trialType'] == 'current_ramp':\n",
    "        all_trials = {}\n",
    "        for traceNum in range(len(traces)):\n",
    "#         for traceNum in range(4):\n",
    "#         for traceNum in (0,1,7):\n",
    "            print traceNum\n",
    "            trace = traces[traceNum]\n",
    "            if np.max(trace) < 0: ## Skip trials without spike or too much noise\n",
    "                continue\n",
    "#             trace = ss.medfilt(trace, kernel_size=3) ## Median filter\n",
    "#             trace = mov_mean(trace, stride = 100)\n",
    "            time, Ith, Vth = get_threshold(h5data, traceNum = traceNum, rate = rate, filt = False, cut = 0.125)\n",
    "            ax = fig.add_subplot(len(traces), 2, traceNum*2+1)\n",
    "#             ax = fig.add_subplot(1, 2, 1)\n",
    "            ax.plot(trace, lw = 0.8, color = 'g')\n",
    "            ax.scatter(time, Vth, color = 'm', s = 20)\n",
    "            ax.set_ylabel(traceNum+1)\n",
    "            preSpike = int(0.01*meta['sampleRate'])\n",
    "            postSpike = int(0.02*meta['sampleRate'])\n",
    "            ax = fig.add_subplot(len(traces), 2, traceNum*2+2)\n",
    "#             ax = fig.add_subplot(1, 2, 2)\n",
    "            AP_info = get_AP_params(h5data, height = 0, traceNum = traceNum, rate = rate, tail = tail, filt = False, cut = 0.125)\n",
    "            ax.plot(AP_info['trace_for_AP'], color = 'g')\n",
    "            ax.scatter(AP_info['pre_threshold_seg'] , AP_info['trace_for_AP'][AP_info['pre_threshold_seg']], color = 'm', s = 50)\n",
    "            ax.hlines(AP_info['peak_value'], xmin = 50, xmax = int(0.014*meta['sampleRate']), linestyle = '--',)\n",
    "            a = int(0.01*meta['sampleRate'])\n",
    "            AP_hw_xmin = AP_info['pre_threshold_seg'] + AP_info['AP_halfWidth'][2][0]\n",
    "            AP_hw_xmax = AP_info['pre_threshold_seg'] + AP_info['AP_halfWidth'][3][0]\n",
    "            ax.hlines(AP_info['AP_halfWidth'][1][0], xmin=AP_hw_xmin, xmax=AP_hw_xmax, linestyle = '--', )\n",
    "            ax.hlines(AP_info['trace_for_AP'][AP_info['pre_threshold_seg']], xmin = 50, xmax = int(0.014*meta['sampleRate']), linestyle = '--')\n",
    "            ax.hlines(AP_info['RMP'], xmin = 0, xmax = 600, linestyle = '--')\n",
    "            ax.hlines(AP_info['half_AHP_amp'], xmin = AP_info['hfAHP_start'], xmax = AP_info['hfAHP_end'], linestyle = '--')\n",
    "            all_trials[traceNum+1] = AP_info\n",
    "        break\n",
    "plt.show()\n"
   ]
  },
  {
   "cell_type": "markdown",
   "metadata": {},
   "source": [
    "### Select trial and output data (criteria followed)\n",
    "- First trial evoked 2 or more spikes\n",
    "- Threshold point, AP and AHP measurement in the right places."
   ]
  },
  {
   "cell_type": "code",
   "execution_count": null,
   "metadata": {},
   "outputs": [],
   "source": [
    "trial_selected = 2\n",
    "AP_info = all_trials[trial_selected]\n",
    "remark = ''\n"
   ]
  },
  {
   "cell_type": "code",
   "execution_count": null,
   "metadata": {},
   "outputs": [],
   "source": [
    "sessionInfo = {\n",
    "                u'Date': date,\n",
    "                u'Cell': cell,\n",
    "                u'Ra': Ra,\n",
    "                u'Rm': Rm,\n",
    "                u'Cm': Cm,\n",
    "                u'tau': tau,\n",
    "                u'RMP': AP_info['RMP'],\n",
    "                u'Ith': Ith,\n",
    "                u'Vth': Vth,\n",
    "                u'AP_amplitude': AP_info['AP_amplitude'],\n",
    "                u'AP_width': AP_info['AP_halfWidth'][0][0] * 1000.0 / meta['sampleRate'],\n",
    "                u'uIth': Ith/Cm,\n",
    "                u'trial_selected(CC)': trial_selected,\n",
    "                u'Remark': remark\n",
    "            }\n"
   ]
  },
  {
   "cell_type": "code",
   "execution_count": null,
   "metadata": {},
   "outputs": [],
   "source": [
    "sumFile = os.path.join(dataPath, 'summary_Ahmed_data.xlsx')\n",
    "pd.set_option('display.max_columns', 50)\n",
    "pd.set_option('display.max_colwidth', 8)\n",
    "df = pd.read_excel(sumFile, index_col = 0)\n"
   ]
  },
  {
   "cell_type": "code",
   "execution_count": null,
   "metadata": {
    "scrolled": false
   },
   "outputs": [],
   "source": [
    "df_new = pd.DataFrame(sessionInfo, columns = list(df), index = ['i',]) # columns specification keeps the order of columns; index specification makes sure dict keys are the columns \n",
    "df = df.append(df_new, ignore_index = True)\n",
    "df.index = np.arange(1, len(df)+1)\n",
    "df.to_excel(sumFile)\n",
    "pd.set_option('display.max_columns', 50)\n",
    "pd.set_option('display.max_colwidth', 8)\n",
    "df\n"
   ]
  },
  {
   "cell_type": "code",
   "execution_count": null,
   "metadata": {},
   "outputs": [],
   "source": []
  },
  {
   "cell_type": "code",
   "execution_count": null,
   "metadata": {},
   "outputs": [],
   "source": [
    "# idx = len(df)\n",
    "# df = df.drop(idx)\n",
    "# df.to_excel(dataPath + '/summary_Ahmed_data.xlsx')\n",
    "# df\n"
   ]
  },
  {
   "cell_type": "code",
   "execution_count": null,
   "metadata": {},
   "outputs": [],
   "source": []
  },
  {
   "cell_type": "code",
   "execution_count": null,
   "metadata": {},
   "outputs": [],
   "source": []
  }
 ],
 "metadata": {
  "kernelspec": {
   "display_name": "Python 3",
   "language": "python",
   "name": "python3"
  },
  "language_info": {
   "codemirror_mode": {
    "name": "ipython",
    "version": 3
   },
   "file_extension": ".py",
   "mimetype": "text/x-python",
   "name": "python",
   "nbconvert_exporter": "python",
   "pygments_lexer": "ipython3",
   "version": "3.8.8"
  }
 },
 "nbformat": 4,
 "nbformat_minor": 2
}

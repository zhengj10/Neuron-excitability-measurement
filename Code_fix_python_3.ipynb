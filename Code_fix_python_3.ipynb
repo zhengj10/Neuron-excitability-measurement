{
 "cells": [
  {
   "cell_type": "markdown",
   "metadata": {},
   "source": [
    "### Get session info\n",
    "- Data is appended per cell\n"
   ]
  },
  {
   "cell_type": "code",
   "execution_count": 45,
   "metadata": {},
   "outputs": [],
   "source": [
    "# dataPath = '/Volumes/genie/Jihong_GENIE_stuff/Voltron-ST&Kv2.1/'\n",
    "date = '190128'\n",
    "dataPath = '/Users/zhengj10/Desktop/Ahmed'\n"
   ]
  },
  {
   "cell_type": "markdown",
   "metadata": {},
   "source": [
    "### Import modules"
   ]
  },
  {
   "cell_type": "code",
   "execution_count": 46,
   "metadata": {},
   "outputs": [],
   "source": [
    "import os\n",
    "from glob import glob\n",
    "from pywavesurfer import ws\n",
    "from WC_ephys import get_data, mem_test, get_rmp, get_threshold, get_AP_params, low_pass\n",
    "import numpy as np\n",
    "import scipy.signal as ss\n",
    "import matplotlib.pyplot as plt\n",
    "from scipy.optimize import curve_fit\n",
    "from termcolor import colored\n",
    "import unicodedata\n",
    "import pandas as pd\n"
   ]
  },
  {
   "cell_type": "code",
   "execution_count": 47,
   "metadata": {},
   "outputs": [
    {
     "name": "stdout",
     "output_type": "stream",
     "text": [
      "True\n"
     ]
    }
   ],
   "source": [
    "cellPath = os.path.join(dataPath, date)\n",
    "print(os.path.exists(cellPath))\n"
   ]
  },
  {
   "cell_type": "markdown",
   "metadata": {},
   "source": [
    "### Locate data files"
   ]
  },
  {
   "cell_type": "code",
   "execution_count": 48,
   "metadata": {},
   "outputs": [
    {
     "data": {
      "text/plain": [
       "['cell_1', 'cell_2', 'cell_3', 'cell_4', 'cell_5']"
      ]
     },
     "execution_count": 48,
     "metadata": {},
     "output_type": "execute_result"
    }
   ],
   "source": [
    "cells = [d for d in os.listdir(cellPath) if os.path.isdir(os.path.join(cellPath, d))]\n",
    "cells = sorted(cells)\n",
    "cells\n",
    "# h5files = glob(os.path.join(dataPath, '*.h5'))\n",
    "# h5files = sorted(h5files)\n",
    "# h5files\n"
   ]
  },
  {
   "cell_type": "markdown",
   "metadata": {},
   "source": [
    "### Load h5 data"
   ]
  },
  {
   "cell_type": "code",
   "execution_count": 57,
   "metadata": {},
   "outputs": [
    {
     "data": {
      "text/plain": [
       "['/Users/zhengj10/Desktop/Ahmed/190128/cell_2/trial_0001-0010.h5',\n",
       " '/Users/zhengj10/Desktop/Ahmed/190128/cell_2/trial_0011.h5',\n",
       " '/Users/zhengj10/Desktop/Ahmed/190128/cell_2/trial_0012.h5',\n",
       " '/Users/zhengj10/Desktop/Ahmed/190128/cell_2/trial_0013.h5',\n",
       " '/Users/zhengj10/Desktop/Ahmed/190128/cell_2/trial_0014.h5',\n",
       " '/Users/zhengj10/Desktop/Ahmed/190128/cell_2/trial_0015.h5']"
      ]
     },
     "execution_count": 57,
     "metadata": {},
     "output_type": "execute_result"
    }
   ],
   "source": [
    "cell = 'cell_2'\n",
    "h5files = glob(os.path.join(dataPath, date, cell, '*.h5'))\n",
    "h5files = sorted(h5files)\n",
    "h5files\n"
   ]
  },
  {
   "cell_type": "code",
   "execution_count": 78,
   "metadata": {},
   "outputs": [],
   "source": [
    "h5data=h5files[4]"
   ]
  },
  {
   "cell_type": "code",
   "execution_count": 79,
   "metadata": {},
   "outputs": [
    {
     "name": "stdout",
     "output_type": "stream",
     "text": [
      "[b'P0.0 Andor Trig', b'AO0 Comm', b'AO1 LED Trig']\n"
     ]
    }
   ],
   "source": [
    "traces = []\n",
    "meta = {}\n",
    "data_as_dict = ws.loadDataFile(filename=h5data)\n",
    "sortedKeys = sorted(data_as_dict.keys())\n",
    "sweeps = sortedKeys[1:]\n",
    "for sweep in sweeps:\n",
    "    trace = data_as_dict[sweep]['analogScans'][0]\n",
    "    traces.append(trace)\n",
    "meta['sampleRate'] = data_as_dict['header']['AcquisitionSampleRate'][0][0]\n",
    "trialTypeIndex = data_as_dict['header']['StimulusLibrary']['SelectedOutputableIndex'][0]\n",
    "mapElement = 'element%d' %(trialTypeIndex)\n",
    "trialType = data_as_dict['header']['StimulusLibrary']['Maps'][mapElement]['Name'][0]\n",
    "meta['trialType'] = trialType\n",
    "channels = data_as_dict['header']['StimulusLibrary']['Maps'][mapElement]['ChannelName']\n",
    "channels = list(channels)\n",
    "print(channels)\n",
    "channelIdx = channels.index(b'AO0 Comm')\n",
    "stimIdxElement = 'element%d' %(channelIdx+1) # Channel index starts at 0\n",
    "stimIdx = data_as_dict['header']['StimulusLibrary']['Maps'][mapElement]['IndexOfEachStimulusInLibrary'][stimIdxElement][0]\n",
    "stimElement = 'element%d' %(stimIdx)\n",
    "stimulus = data_as_dict['header']['StimulusLibrary']['Stimuli'][stimElement]['Name'][0]\n",
    "meta['stimulus'] = stimulus\n",
    "delay = data_as_dict['header']['StimulusLibrary']['Stimuli'][stimElement]['Delegate']['Delay'][0]\n",
    "meta['delay'] = float(delay)\n",
    "if stimulus == b'Current steps_100ms' or stimulus == b'Current steps_1ms' or stimulus == b'Current steps':\n",
    "    first_pulse_amplitude = data_as_dict['header']['StimulusLibrary']['Stimuli'][stimElement]['Delegate']['FirstPulseAmplitude'][0]\n",
    "    meta['first_pulse_amplitude'] = first_pulse_amplitude\n",
    "    deltaAmplitude = data_as_dict['header']['StimulusLibrary']['Stimuli'][stimElement]['Delegate']['AmplitudeChangePerPulse'][0]\n",
    "    meta['deltaAmplitude'] = deltaAmplitude\n",
    "    noOfPulses = data_as_dict['header']['StimulusLibrary']['Stimuli'][stimElement]['Delegate']['PulseCount'][0]\n",
    "    meta['noOfPulses'] = noOfPulses\n",
    "    delay_between_pulses = data_as_dict['header']['StimulusLibrary']['Stimuli'][stimElement]['Delegate']['DelayBetweenPulses'][0]\n",
    "    meta['delay_between_pulses'] = delay_between_pulses\n",
    "elif stimulus == 'VI-relationship':\n",
    "    pass\n",
    "\n",
    "else:\n",
    "    amplitude = data_as_dict['header']['StimulusLibrary']['Stimuli'][stimElement]['Delegate']['Amplitude'][0]\n",
    "    meta['amplitude'] = float(amplitude)\n",
    "    duration = data_as_dict['header']['StimulusLibrary']['Stimuli'][stimElement]['Delegate']['Duration'][0]\n",
    "    meta['duration'] = float(duration)\n"
   ]
  },
  {
   "cell_type": "code",
   "execution_count": 80,
   "metadata": {},
   "outputs": [
    {
     "data": {
      "text/plain": [
       "array([-69.71614396, -69.71614396, -69.71614396, ..., -68.46066446,\n",
       "       -68.42847268, -68.46066446])"
      ]
     },
     "execution_count": 80,
     "metadata": {},
     "output_type": "execute_result"
    }
   ],
   "source": [
    "# stimElement\n",
    "# traces, meta = get_data(h5files[3])\n",
    "# meta\n",
    "# stimulus\n",
    "# data_as_dict['header']['StimulusLibrary']['Stimuli'][stimElement]['Delegate']['Delay'][0]\n",
    "traces[0]"
   ]
  },
  {
   "cell_type": "code",
   "execution_count": 81,
   "metadata": {},
   "outputs": [
    {
     "data": {
      "text/plain": [
       "[<matplotlib.lines.Line2D at 0x10c0bd9e8>]"
      ]
     },
     "execution_count": 81,
     "metadata": {},
     "output_type": "execute_result"
    },
    {
     "data": {
      "image/png": "[encoded data removed]",
      "text/plain": [
       "<Figure size 432x288 with 1 Axes>"
      ]
     },
     "metadata": {
      "needs_background": "light"
     },
     "output_type": "display_data"
    }
   ],
   "source": [
    "plt.plot(traces[0])"
   ]
  },
  {
   "cell_type": "code",
   "execution_count": 82,
   "metadata": {},
   "outputs": [
    {
     "data": {
      "text/plain": [
       "{'sampleRate': 10000.0,\n",
       " 'trialType': b'IC-singleAP',\n",
       " 'stimulus': b'Current steps_1ms',\n",
       " 'delay': 0.5,\n",
       " 'first_pulse_amplitude': b'358.48',\n",
       " 'deltaAmplitude': b'119.49',\n",
       " 'noOfPulses': b'15',\n",
       " 'delay_between_pulses': b'0.999'}"
      ]
     },
     "execution_count": 82,
     "metadata": {},
     "output_type": "execute_result"
    }
   ],
   "source": [
    "meta"
   ]
  },
  {
   "cell_type": "code",
   "execution_count": 83,
   "metadata": {},
   "outputs": [
    {
     "name": "stdout",
     "output_type": "stream",
     "text": [
      "[b'AO0 Comm']\n"
     ]
    },
    {
     "data": {
      "image/png": "[encoded data removed]",
      "text/plain": [
       "<Figure size 720x288 with 3 Axes>"
      ]
     },
     "metadata": {
      "needs_background": "light"
     },
     "output_type": "display_data"
    }
   ],
   "source": [
    "plt.figure(figsize=(10,4))\n",
    "traces, meta = get_data(h5files[0])\n",
    "trace = traces[4]\n",
    "trace_lpfilt = low_pass(trace)\n",
    "trace_med = ss.medfilt(trace, kernel_size = 5)\n",
    "ax1 = plt.subplot(1,3,1)\n",
    "ax1.plot(trace)\n",
    "ax2 = plt.subplot(1,3,2)\n",
    "ax2.plot(trace_lpfilt)\n",
    "ax3 = plt.subplot(1,3,3)\n",
    "ax3.plot(trace_med)\n",
    "plt.show()\n"
   ]
  },
  {
   "cell_type": "code",
   "execution_count": 11,
   "metadata": {},
   "outputs": [],
   "source": [
    "data_as_dict = ws.loadDataFile(filename=h5files[0])"
   ]
  },
  {
   "cell_type": "code",
   "execution_count": 12,
   "metadata": {},
   "outputs": [],
   "source": [
    "sortedKeys = sorted(data_as_dict.keys())\n",
    "sweeps = sortedKeys[1:]\n",
    "traces = []\n",
    "for sweep in sweeps:\n",
    "    trace = data_as_dict[sweep]['analogScans'][0]\n",
    "    traces.append(trace)"
   ]
  },
  {
   "cell_type": "code",
   "execution_count": 13,
   "metadata": {},
   "outputs": [
    {
     "data": {
      "text/plain": [
       "10"
      ]
     },
     "execution_count": 13,
     "metadata": {},
     "output_type": "execute_result"
    }
   ],
   "source": [
    "len(traces)"
   ]
  },
  {
   "cell_type": "code",
   "execution_count": 14,
   "metadata": {},
   "outputs": [
    {
     "data": {
      "image/png": "[encoded data removed]",
      "text/plain": [
       "<Figure size 432x288 with 1 Axes>"
      ]
     },
     "metadata": {
      "needs_background": "light"
     },
     "output_type": "display_data"
    }
   ],
   "source": [
    "plt.plot(traces[1])\n",
    "plt.show()"
   ]
  },
  {
   "cell_type": "code",
   "execution_count": null,
   "metadata": {},
   "outputs": [],
   "source": []
  },
  {
   "cell_type": "code",
   "execution_count": null,
   "metadata": {},
   "outputs": [],
   "source": [
    "# from scipy import signal\n",
    "\n",
    "# def low_pass(trace, cut = 0.125):\n",
    "#     b, a = signal.butter(8, 0.06)\n",
    "#     y = signal.filtfilt(b, a, trace, padlen=150)\n",
    "#     return y\n",
    "\n",
    "# y = low_pass(trace)\n",
    "# print y.shape\n",
    "# plt.plot(y)\n",
    "# plt.show()\n"
   ]
  },
  {
   "cell_type": "code",
   "execution_count": null,
   "metadata": {},
   "outputs": [],
   "source": [
    "# def mov_mean(trace, stride = 100):\n",
    "#     trace_filt = np.zeros(trace.shape[0])\n",
    "#     for point in range(trace.shape[0]):\n",
    "#         trace_filt[point] = np.mean(trace[point:point+stride])\n",
    "#     return trace_filt\n"
   ]
  },
  {
   "cell_type": "code",
   "execution_count": null,
   "metadata": {},
   "outputs": [],
   "source": [
    "for h5data in h5files:\n",
    "    traces, meta = get_data(h5data)\n",
    "    print (meta['trialType'])\n",
    "    if meta['trialType'] == 'VC_10mV_100ms_0.3s':\n",
    "        Ra, Rm, Cm, tau, seal_quality = mem_test(h5data, Vstep = 10.0, height = 200)\n",
    "        traces, meta = get_data(h5data)\n",
    "        trace = np.mean(traces, axis=0)\n",
    "        x = (np.arange(1, trace.shape[0]+1))*1000.0/meta['sampleRate']\n",
    "        plt.plot(x, trace, color = 'b', lw = 0.8)\n",
    "        plt.ylabel('pA', size = 15)\n",
    "        plt.show()\n",
    "        print 'Ra: %s; Rm: %s; Cm: %s, tau: %s' %(Ra, Rm, Cm, tau)\n",
    "        print 'Seal quality: %s' %(seal_quality)\n",
    "        print colored('Ra: ', attrs=['bold']) + str(round(Ra, 2)) + ' M' + unicodedata.lookup(\"GREEK CAPITAL LETTER omega\")\n",
    "        print colored('Rm: ', attrs=['bold']) + str(round(Rm, 2)) + ' M' + unicodedata.lookup(\"GREEK CAPITAL LETTER omega\")\n",
    "        print colored('Cm: ', attrs=['bold']) + str(round(Cm, 2)) + ' pF'\n",
    "        print colored('Sq: ', attrs=['bold']) + str(seal_quality)\n",
    "        break\n"
   ]
  },
  {
   "cell_type": "markdown",
   "metadata": {},
   "source": [
    "### Parameters visualization"
   ]
  },
  {
   "cell_type": "code",
   "execution_count": null,
   "metadata": {},
   "outputs": [],
   "source": [
    "rate = 20\n",
    "tail = 0.02\n"
   ]
  },
  {
   "cell_type": "code",
   "execution_count": null,
   "metadata": {
    "scrolled": false
   },
   "outputs": [],
   "source": [
    "fig = plt.figure(figsize=(8,20))\n",
    "for h5data in h5files:\n",
    "    traces, meta = get_data(h5data)\n",
    "    if meta['trialType'] == 'current_ramp':\n",
    "        all_trials = {}\n",
    "        for traceNum in range(len(traces)):\n",
    "#         for traceNum in range(4):\n",
    "#         for traceNum in (0,1,7):\n",
    "            print traceNum\n",
    "            trace = traces[traceNum]\n",
    "            if np.max(trace) < 0: ## Skip trials without spike or too much noise\n",
    "                continue\n",
    "#             trace = ss.medfilt(trace, kernel_size=3) ## Median filter\n",
    "#             trace = mov_mean(trace, stride = 100)\n",
    "            time, Ith, Vth = get_threshold(h5data, traceNum = traceNum, rate = rate, filt = False, cut = 0.125)\n",
    "            ax = fig.add_subplot(len(traces), 2, traceNum*2+1)\n",
    "#             ax = fig.add_subplot(1, 2, 1)\n",
    "            ax.plot(trace, lw = 0.8, color = 'g')\n",
    "            ax.scatter(time, Vth, color = 'm', s = 20)\n",
    "            ax.set_ylabel(traceNum+1)\n",
    "            preSpike = int(0.01*meta['sampleRate'])\n",
    "            postSpike = int(0.02*meta['sampleRate'])\n",
    "            ax = fig.add_subplot(len(traces), 2, traceNum*2+2)\n",
    "#             ax = fig.add_subplot(1, 2, 2)\n",
    "            AP_info = get_AP_params(h5data, height = 0, traceNum = traceNum, rate = rate, tail = tail, filt = False, cut = 0.125)\n",
    "            ax.plot(AP_info['trace_for_AP'], color = 'g')\n",
    "            ax.scatter(AP_info['pre_threshold_seg'] , AP_info['trace_for_AP'][AP_info['pre_threshold_seg']], color = 'm', s = 50)\n",
    "            ax.hlines(AP_info['peak_value'], xmin = 50, xmax = int(0.014*meta['sampleRate']), linestyle = '--',)\n",
    "            a = int(0.01*meta['sampleRate'])\n",
    "            AP_hw_xmin = AP_info['pre_threshold_seg'] + AP_info['AP_halfWidth'][2][0]\n",
    "            AP_hw_xmax = AP_info['pre_threshold_seg'] + AP_info['AP_halfWidth'][3][0]\n",
    "            ax.hlines(AP_info['AP_halfWidth'][1][0], xmin=AP_hw_xmin, xmax=AP_hw_xmax, linestyle = '--', )\n",
    "            ax.hlines(AP_info['trace_for_AP'][AP_info['pre_threshold_seg']], xmin = 50, xmax = int(0.014*meta['sampleRate']), linestyle = '--')\n",
    "            ax.hlines(AP_info['RMP'], xmin = 0, xmax = 600, linestyle = '--')\n",
    "            ax.hlines(AP_info['half_AHP_amp'], xmin = AP_info['hfAHP_start'], xmax = AP_info['hfAHP_end'], linestyle = '--')\n",
    "            all_trials[traceNum+1] = AP_info\n",
    "        break\n",
    "plt.show()\n"
   ]
  },
  {
   "cell_type": "markdown",
   "metadata": {},
   "source": [
    "### Select trial and output data (criteria followed)\n",
    "- First trial evoked 2 or more spikes\n",
    "- Threshold point, AP and AHP measurement in the right places."
   ]
  },
  {
   "cell_type": "code",
   "execution_count": null,
   "metadata": {},
   "outputs": [],
   "source": [
    "trial_selected = 2\n",
    "AP_info = all_trials[trial_selected]\n",
    "remark = ''\n"
   ]
  },
  {
   "cell_type": "code",
   "execution_count": null,
   "metadata": {},
   "outputs": [],
   "source": [
    "sessionInfo = {\n",
    "                u'Date': date,\n",
    "                u'Cell': cell,\n",
    "                u'Ra': Ra,\n",
    "                u'Rm': Rm,\n",
    "                u'Cm': Cm,\n",
    "                u'tau': tau,\n",
    "                u'RMP': AP_info['RMP'],\n",
    "                u'Ith': Ith,\n",
    "                u'Vth': Vth,\n",
    "                u'AP_amplitude': AP_info['AP_amplitude'],\n",
    "                u'AP_width': AP_info['AP_halfWidth'][0][0] * 1000.0 / meta['sampleRate'],\n",
    "                u'uIth': Ith/Cm,\n",
    "                u'trial_selected(CC)': trial_selected,\n",
    "                u'Remark': remark\n",
    "            }\n"
   ]
  },
  {
   "cell_type": "code",
   "execution_count": null,
   "metadata": {},
   "outputs": [],
   "source": [
    "sumFile = os.path.join(dataPath, 'summary_Ahmed_data.xlsx')\n",
    "pd.set_option('display.max_columns', 50)\n",
    "pd.set_option('display.max_colwidth', 8)\n",
    "df = pd.read_excel(sumFile, index_col = 0)\n"
   ]
  },
  {
   "cell_type": "code",
   "execution_count": null,
   "metadata": {
    "scrolled": false
   },
   "outputs": [],
   "source": [
    "df_new = pd.DataFrame(sessionInfo, columns = list(df), index = ['i',]) # columns specification keeps the order of columns; index specification makes sure dict keys are the columns \n",
    "df = df.append(df_new, ignore_index = True)\n",
    "df.index = np.arange(1, len(df)+1)\n",
    "df.to_excel(sumFile)\n",
    "pd.set_option('display.max_columns', 50)\n",
    "pd.set_option('display.max_colwidth', 8)\n",
    "df\n"
   ]
  },
  {
   "cell_type": "code",
   "execution_count": null,
   "metadata": {},
   "outputs": [],
   "source": []
  },
  {
   "cell_type": "code",
   "execution_count": null,
   "metadata": {},
   "outputs": [],
   "source": [
    "# idx = len(df)\n",
    "# df = df.drop(idx)\n",
    "# df.to_excel(dataPath + '/summary_Ahmed_data.xlsx')\n",
    "# df\n"
   ]
  },
  {
   "cell_type": "code",
   "execution_count": null,
   "metadata": {},
   "outputs": [],
   "source": []
  },
  {
   "cell_type": "code",
   "execution_count": null,
   "metadata": {},
   "outputs": [],
   "source": []
  }
 ],
 "metadata": {
  "kernelspec": {
   "display_name": "Python 3",
   "language": "python",
   "name": "python3"
  },
  "language_info": {
   "codemirror_mode": {
    "name": "ipython",
    "version": 3
   },
   "file_extension": ".py",
   "mimetype": "text/x-python",
   "name": "python",
   "nbconvert_exporter": "python",
   "pygments_lexer": "ipython3",
   "version": "3.7.6"
  }
 },
 "nbformat": 4,
 "nbformat_minor": 2
}

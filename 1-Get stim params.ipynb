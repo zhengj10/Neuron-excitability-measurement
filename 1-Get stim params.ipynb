{
 "cells": [
  {
   "cell_type": "markdown",
   "metadata": {},
   "source": [
    "### Get Ith from ramp current trial\n"
   ]
  },
  {
   "cell_type": "code",
   "execution_count": 1,
   "metadata": {},
   "outputs": [],
   "source": [
    "# h5data = '/Volumes/genie/Jihong_GENIE_stuff/GEVI-screening/190621/dish_2/cell_2/trial_0011.h5'\n",
    "h5data = '/Volumes/genie/Jihong_GENIE_stuff/GEVI-screening/I-clamp/20191126/dish_1/cell_1/trial_0011.h5'\n",
    "# h5data = '/Users/zhengj10/Desktop/Ahmed/190128/cell_1/trial_0011.h5'\n"
   ]
  },
  {
   "cell_type": "code",
   "execution_count": 3,
   "metadata": {},
   "outputs": [],
   "source": [
    "import sys\n",
    "sys.path.append('/Users/zhengj10/Python/Modules')\n",
    "import os\n",
    "from pywavesurfer import ws\n",
    "from WC_ephys import get_data, mem_test, get_stimParams, get_rmp, get_threshold, get_AP_params, count_AP\n",
    "import numpy as np\n",
    "import matplotlib.pyplot as plt\n",
    "\n"
   ]
  },
  {
   "cell_type": "code",
   "execution_count": 4,
   "metadata": {},
   "outputs": [
    {
     "ename": "OSError",
     "evalue": "The file /Volumes/genie/Jihong_GENIE_stuff/GEVI-screening/I-clamp/20191126/dish_1/cell_1/trial_0011.h5 does not exist.",
     "output_type": "error",
     "traceback": [
      "\u001b[0;31m---------------------------------------------------------------------------\u001b[0m",
      "\u001b[0;31mOSError\u001b[0m                                   Traceback (most recent call last)",
      "\u001b[0;32m<ipython-input-4-bd558cfb964b>\u001b[0m in \u001b[0;36m<module>\u001b[0;34m\u001b[0m\n\u001b[0;32m----> 1\u001b[0;31m \u001b[0mtraces\u001b[0m\u001b[0;34m,\u001b[0m \u001b[0mmeta\u001b[0m \u001b[0;34m=\u001b[0m \u001b[0mget_data\u001b[0m\u001b[0;34m(\u001b[0m\u001b[0mh5data\u001b[0m\u001b[0;34m)\u001b[0m\u001b[0;34m\u001b[0m\u001b[0;34m\u001b[0m\u001b[0m\n\u001b[0m\u001b[1;32m      2\u001b[0m \u001b[0;31m# print traces[0].shape\u001b[0m\u001b[0;34m\u001b[0m\u001b[0;34m\u001b[0m\u001b[0;34m\u001b[0m\u001b[0m\n\u001b[1;32m      3\u001b[0m \u001b[0mprint\u001b[0m \u001b[0;34m(\u001b[0m\u001b[0mmeta\u001b[0m\u001b[0;34m[\u001b[0m\u001b[0;34m'trialType'\u001b[0m\u001b[0;34m]\u001b[0m\u001b[0;34m)\u001b[0m\u001b[0;34m\u001b[0m\u001b[0;34m\u001b[0m\u001b[0m\n",
      "\u001b[0;32m~/Python/Modules/WC_ephys.py\u001b[0m in \u001b[0;36mget_data\u001b[0;34m(h5data)\u001b[0m\n\u001b[1;32m     11\u001b[0m     \u001b[0mtraces\u001b[0m \u001b[0;34m=\u001b[0m \u001b[0;34m[\u001b[0m\u001b[0;34m]\u001b[0m\u001b[0;34m\u001b[0m\u001b[0;34m\u001b[0m\u001b[0m\n\u001b[1;32m     12\u001b[0m     \u001b[0mmeta\u001b[0m \u001b[0;34m=\u001b[0m \u001b[0;34m{\u001b[0m\u001b[0;34m}\u001b[0m\u001b[0;34m\u001b[0m\u001b[0;34m\u001b[0m\u001b[0m\n\u001b[0;32m---> 13\u001b[0;31m     \u001b[0mdata_as_dict\u001b[0m \u001b[0;34m=\u001b[0m \u001b[0mws\u001b[0m\u001b[0;34m.\u001b[0m\u001b[0mloadDataFile\u001b[0m\u001b[0;34m(\u001b[0m\u001b[0mfilename\u001b[0m\u001b[0;34m=\u001b[0m\u001b[0mh5data\u001b[0m\u001b[0;34m)\u001b[0m\u001b[0;34m\u001b[0m\u001b[0;34m\u001b[0m\u001b[0m\n\u001b[0m\u001b[1;32m     14\u001b[0m     \u001b[0msortedKeys\u001b[0m \u001b[0;34m=\u001b[0m \u001b[0msorted\u001b[0m\u001b[0;34m(\u001b[0m\u001b[0mdata_as_dict\u001b[0m\u001b[0;34m.\u001b[0m\u001b[0mkeys\u001b[0m\u001b[0;34m(\u001b[0m\u001b[0;34m)\u001b[0m\u001b[0;34m)\u001b[0m\u001b[0;34m\u001b[0m\u001b[0;34m\u001b[0m\u001b[0m\n\u001b[1;32m     15\u001b[0m     \u001b[0msweeps\u001b[0m \u001b[0;34m=\u001b[0m \u001b[0msortedKeys\u001b[0m\u001b[0;34m[\u001b[0m\u001b[0;36m1\u001b[0m\u001b[0;34m:\u001b[0m\u001b[0;34m]\u001b[0m\u001b[0;34m\u001b[0m\u001b[0;34m\u001b[0m\u001b[0m\n",
      "\u001b[0;32m~/opt/anaconda3/lib/python3.7/site-packages/pywavesurfer/ws.py\u001b[0m in \u001b[0;36mloadDataFile\u001b[0;34m(filename, format_string)\u001b[0m\n\u001b[1;32m     21\u001b[0m     \u001b[0;31m# Check that file exists\u001b[0m\u001b[0;34m\u001b[0m\u001b[0;34m\u001b[0m\u001b[0;34m\u001b[0m\u001b[0m\n\u001b[1;32m     22\u001b[0m     \u001b[0;32mif\u001b[0m \u001b[0;32mnot\u001b[0m \u001b[0mos\u001b[0m\u001b[0;34m.\u001b[0m\u001b[0mpath\u001b[0m\u001b[0;34m.\u001b[0m\u001b[0misfile\u001b[0m\u001b[0;34m(\u001b[0m\u001b[0mfilename\u001b[0m\u001b[0;34m)\u001b[0m\u001b[0;34m:\u001b[0m\u001b[0;34m\u001b[0m\u001b[0;34m\u001b[0m\u001b[0m\n\u001b[0;32m---> 23\u001b[0;31m         \u001b[0;32mraise\u001b[0m \u001b[0mIOError\u001b[0m\u001b[0;34m(\u001b[0m\u001b[0;34m\"The file %s does not exist.\"\u001b[0m \u001b[0;34m%\u001b[0m \u001b[0mfilename\u001b[0m\u001b[0;34m)\u001b[0m\u001b[0;34m\u001b[0m\u001b[0;34m\u001b[0m\u001b[0m\n\u001b[0m\u001b[1;32m     24\u001b[0m \u001b[0;34m\u001b[0m\u001b[0m\n\u001b[1;32m     25\u001b[0m     \u001b[0;31m# Check that file has proper extension\u001b[0m\u001b[0;34m\u001b[0m\u001b[0;34m\u001b[0m\u001b[0;34m\u001b[0m\u001b[0m\n",
      "\u001b[0;31mOSError\u001b[0m: The file /Volumes/genie/Jihong_GENIE_stuff/GEVI-screening/I-clamp/20191126/dish_1/cell_1/trial_0011.h5 does not exist."
     ]
    }
   ],
   "source": [
    "traces, meta = get_data(h5data)\n",
    "# print traces[0].shape\n",
    "print (meta['trialType'])\n"
   ]
  },
  {
   "cell_type": "code",
   "execution_count": 12,
   "metadata": {},
   "outputs": [
    {
     "data": {
      "image/png": "[encoded data removed]",
      "text/plain": [
       "<Figure size 432x288 with 1 Axes>"
      ]
     },
     "metadata": {
      "needs_background": "light"
     },
     "output_type": "display_data"
    }
   ],
   "source": [
    "# fig = plt.figure(figsize=(3,1.1))\n",
    "# fig = plt.figure(figsize=(3,2.5))\n",
    "ax1 = plt.subplot(1,1,1)\n",
    "x = np.arange(1,len(traces[0])+1) / float(meta['sampleRate']) - 0.4\n",
    "ax1.plot(x,traces[0])\n",
    "ax1.spines['right'].set_visible(False)\n",
    "ax1.spines['top'].set_visible(False)\n",
    "# ax1.spines['bottom'].set_visible(False)\n",
    "# ax1.get_xaxis().set_visible(False)\n",
    "ax1.set_ylabel('mV')\n",
    "ax1.set_xlim(0,1.4)\n",
    "# ax2 = plt.subplot(1,1,1)\n",
    "# ax2.spines['right'].set_visible(False)\n",
    "# ax2.spines['top'].set_visible(False)\n",
    "# ax2.plot([0,0.1,0.1,1.1,1.1,1.4],[0,0,277.23,277.23,0,0]) # 1 s square pulse current\n",
    "# # ax2.plot([0,0.1,1.1,1.1,1.4],[0,0,300,0,0]) # 1 s ramp current\n",
    "# ax2.set_ylabel('pA')\n",
    "# ax2.set_xlabel('s')\n",
    "# ax2.set_xlim(0,1.4)\n",
    "plt.tight_layout()\n",
    "plt.show()\n",
    "# fig.savefig('/Users/zhengj10/Desktop/IC-1s pulse-square.png', dpi = 1200)\n",
    "# fig.savefig('/Users/zhengj10/Desktop/IC-MP-square.png', dpi = 1200)"
   ]
  },
  {
   "cell_type": "code",
   "execution_count": 13,
   "metadata": {},
   "outputs": [
    {
     "name": "stdout",
     "output_type": "stream",
     "text": [
      "\u001b[1mFor 100 ms current steps:\u001b[0m\n",
      "-0.2x current threshold: -12.09 at step 6.05\n",
      "\n",
      "\u001b[1mFor 1 s current pulse:\u001b[0m\n",
      "0.5x current threshold: 30.24\n",
      "1x Current threshold: 60.47 \n",
      "1.5x current threshold: 90.7\n",
      "2x current threshold: 120.94\n",
      "\n",
      "\u001b[1mFor 1 ms current steps:\u001b[0m\n",
      "2x current threshold: 120.94 at step 40.31\n",
      "5x current threshold: 302.35 at step 100.78\n"
     ]
    }
   ],
   "source": [
    "if meta['trialType'] == b'IC-AP threshold_ramp' or meta['trialType'] == b'IC-AP threshold':\n",
    "    get_stimParams(h5data)\n",
    "    "
   ]
  },
  {
   "cell_type": "code",
   "execution_count": 20,
   "metadata": {},
   "outputs": [],
   "source": [
    "# import pandas as pd\n",
    "# import numpy as np\n",
    "\n",
    "# arrays = [['Midland', 'Midland', 'Hereford', 'Hereford', 'Hobbs','Hobbs', 'Childress',\n",
    "#            'Childress', 'Reese', 'Reese', 'San Angelo', 'San Angelo'],\n",
    "#           ['WRF','MOS','WRF','MOS','WRF','MOS','WRF','MOS','WRF','MOS','WRF','MOS']]\n",
    "# tuples = list(zip(*arrays))\n",
    "# index = pd.MultiIndex.from_tuples(tuples)\n",
    "# df = pd.DataFrame(np.random.randn(12, 4), index=arrays,\n",
    "#                   columns=['00 UTC', '06 UTC', '12 UTC', '18 UTC'])"
   ]
  },
  {
   "cell_type": "code",
   "execution_count": 42,
   "metadata": {},
   "outputs": [],
   "source": [
    "# df"
   ]
  },
  {
   "cell_type": "code",
   "execution_count": null,
   "metadata": {},
   "outputs": [],
   "source": [
    "import numpy as np\n",
    "import matplotlib.pyplot as plt\n"
   ]
  },
  {
   "cell_type": "code",
   "execution_count": null,
   "metadata": {},
   "outputs": [],
   "source": [
    "x = np.linspace(-2*np.pi,2*np.pi,1000)\n",
    "y = np.sin(x)\n",
    "z = np.cos(x)\n",
    "plt.plot(x,y)\n",
    "plt.plot(x,z)\n",
    "plt.show()"
   ]
  },
  {
   "cell_type": "code",
   "execution_count": null,
   "metadata": {},
   "outputs": [],
   "source": []
  },
  {
   "cell_type": "code",
   "execution_count": null,
   "metadata": {},
   "outputs": [],
   "source": []
  },
  {
   "cell_type": "code",
   "execution_count": null,
   "metadata": {},
   "outputs": [],
   "source": []
  },
  {
   "cell_type": "code",
   "execution_count": null,
   "metadata": {},
   "outputs": [],
   "source": []
  }
 ],
 "metadata": {
  "kernelspec": {
   "display_name": "Python 3",
   "language": "python",
   "name": "python3"
  },
  "language_info": {
   "codemirror_mode": {
    "name": "ipython",
    "version": 3
   },
   "file_extension": ".py",
   "mimetype": "text/x-python",
   "name": "python",
   "nbconvert_exporter": "python",
   "pygments_lexer": "ipython3",
   "version": "3.7.6"
  }
 },
 "nbformat": 4,
 "nbformat_minor": 2
}
